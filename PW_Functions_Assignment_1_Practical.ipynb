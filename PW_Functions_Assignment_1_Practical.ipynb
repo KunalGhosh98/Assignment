{
  "nbformat": 4,
  "nbformat_minor": 0,
  "metadata": {
    "colab": {
      "provenance": []
    },
    "kernelspec": {
      "name": "python3",
      "display_name": "Python 3"
    },
    "language_info": {
      "name": "python"
    }
  },
  "cells": [
    {
      "cell_type": "markdown",
      "source": [
        "##Q1) Write a Python function that takes a list of numbers as input and returns the sum of all even numbers in the list."
      ],
      "metadata": {
        "id": "y67MXnV5x6HY"
      }
    },
    {
      "cell_type": "code",
      "source": [
        "def sum_of_even_numbers(numbers):\n",
        "    return sum(num for num in numbers if num % 2 == 0)\n",
        "\n",
        "# Example usage\n",
        "num_list = [1, 2, 3, 4, 5, 6]\n",
        "print(sum_of_even_numbers(num_list))\n"
      ],
      "metadata": {
        "colab": {
          "base_uri": "https://localhost:8080/"
        },
        "id": "430ABPvGyECz",
        "outputId": "b694d0af-4091-48ed-f853-17ebafb60cb2"
      },
      "execution_count": null,
      "outputs": [
        {
          "output_type": "stream",
          "name": "stdout",
          "text": [
            "12\n"
          ]
        }
      ]
    },
    {
      "cell_type": "markdown",
      "source": [
        "##Q2) Create a Python function that accepts a string and returns the reverse of that string."
      ],
      "metadata": {
        "id": "MbyNz9XayJMm"
      }
    },
    {
      "cell_type": "code",
      "source": [
        "def reverse_string(s):\n",
        "    return s[::-1]\n",
        "\n",
        "# Example usage\n",
        "input_string = \"hello\"\n",
        "print(reverse_string(input_string))\n"
      ],
      "metadata": {
        "colab": {
          "base_uri": "https://localhost:8080/"
        },
        "id": "_ds_ZSWSyOIW",
        "outputId": "1f131655-ebe8-4395-9910-2cec25eff253"
      },
      "execution_count": null,
      "outputs": [
        {
          "output_type": "stream",
          "name": "stdout",
          "text": [
            "olleh\n"
          ]
        }
      ]
    },
    {
      "cell_type": "markdown",
      "source": [
        "##Q3) Implement a Python function that takes a list of integers and returns a new list containing the squares of each number."
      ],
      "metadata": {
        "id": "z038HR3dyUa0"
      }
    },
    {
      "cell_type": "code",
      "source": [
        "def square_numbers(numbers):\n",
        "    return [num ** 2 for num in numbers]\n",
        "\n",
        "# Example usage\n",
        "num_list = [1, 2, 3, 4]\n",
        "print(square_numbers(num_list))\n"
      ],
      "metadata": {
        "colab": {
          "base_uri": "https://localhost:8080/"
        },
        "id": "IlFIXqaCyYD1",
        "outputId": "a11cf379-e2a2-4c51-9d9b-1856906daa2c"
      },
      "execution_count": null,
      "outputs": [
        {
          "output_type": "stream",
          "name": "stdout",
          "text": [
            "[1, 4, 9, 16]\n"
          ]
        }
      ]
    },
    {
      "cell_type": "markdown",
      "source": [
        "##Q4) Write a Python function that checks if a given number is prime or not from 1 to 200."
      ],
      "metadata": {
        "id": "d99m2Bg-ydiJ"
      }
    },
    {
      "cell_type": "code",
      "source": [
        "def is_prime(n):\n",
        "    if n < 2:\n",
        "        return False\n",
        "    for i in range(2, int(n ** 0.5) + 1):\n",
        "        if n % i == 0:\n",
        "            return False\n",
        "    return True\n",
        "\n",
        "# Example usage\n",
        "number = 29\n",
        "print(is_prime(number))\n"
      ],
      "metadata": {
        "colab": {
          "base_uri": "https://localhost:8080/"
        },
        "id": "pertWWtkyhXn",
        "outputId": "79311f48-b2a3-4695-c24f-0f1769393d9c"
      },
      "execution_count": null,
      "outputs": [
        {
          "output_type": "stream",
          "name": "stdout",
          "text": [
            "True\n"
          ]
        }
      ]
    },
    {
      "cell_type": "markdown",
      "source": [
        "##Q5) Create an iterator class in Python that generates the Fibonacci sequence up to a specified number of terms."
      ],
      "metadata": {
        "id": "kZNXM47uypSa"
      }
    },
    {
      "cell_type": "code",
      "source": [
        "class Fibonacci:\n",
        "    def __init__(self, max_terms):\n",
        "        self.max_terms = max_terms\n",
        "        self.n1, self.n2 = 0, 1\n",
        "        self.counter = 0\n",
        "\n",
        "    def __iter__(self):\n",
        "        return self\n",
        "\n",
        "    def __next__(self):\n",
        "        if self.counter >= self.max_terms:\n",
        "            raise StopIteration\n",
        "        if self.counter == 0:\n",
        "            self.counter += 1\n",
        "            return self.n1\n",
        "        elif self.counter == 1:\n",
        "            self.counter += 1\n",
        "            return self.n2\n",
        "        else:\n",
        "            self.n1, self.n2 = self.n2, self.n1 + self.n2\n",
        "            self.counter += 1\n",
        "            return self.n2\n",
        "\n",
        "# Example usage\n",
        "fib = Fibonacci(5)\n",
        "for num in fib:\n",
        "    print(num)\n"
      ],
      "metadata": {
        "colab": {
          "base_uri": "https://localhost:8080/"
        },
        "id": "DW8_QP0Eyr7-",
        "outputId": "e2e82ca2-5708-4c92-c51c-2af9d52230fe"
      },
      "execution_count": null,
      "outputs": [
        {
          "output_type": "stream",
          "name": "stdout",
          "text": [
            "0\n",
            "1\n",
            "1\n",
            "2\n",
            "3\n"
          ]
        }
      ]
    },
    {
      "cell_type": "markdown",
      "source": [
        "Q6) Write a generator function in Python that yields the powers of 2 up to a given exponent."
      ],
      "metadata": {
        "id": "BM1uVsVFy4Q8"
      }
    },
    {
      "cell_type": "code",
      "source": [
        "def powers_of_two(exponent):\n",
        "    for i in range(exponent + 1):\n",
        "        yield 2 ** i\n",
        "\n",
        "# Example usage\n",
        "for power in powers_of_two(5):\n",
        "    print(power)\n"
      ],
      "metadata": {
        "colab": {
          "base_uri": "https://localhost:8080/"
        },
        "id": "AmATSvJ1y_Jh",
        "outputId": "5ad9149f-5bee-42d8-bb77-7b081e8bb441"
      },
      "execution_count": null,
      "outputs": [
        {
          "output_type": "stream",
          "name": "stdout",
          "text": [
            "1\n",
            "2\n",
            "4\n",
            "8\n",
            "16\n",
            "32\n"
          ]
        }
      ]
    },
    {
      "cell_type": "markdown",
      "source": [
        "##Q7) Implement a generator function that reads a file line by line and yields each line as a string."
      ],
      "metadata": {
        "id": "lZxzWbBCzIA1"
      }
    },
    {
      "cell_type": "code",
      "source": [
        "def file_line_reader(file_path):\n",
        "    try:\n",
        "        with open(file_path, 'r') as file:\n",
        "            for line in file:\n",
        "                yield line.strip()\n",
        "    except FileNotFoundError:\n",
        "        print(f\"Error: The file '{file_path}' was not found.\")\n",
        "    except IOError:\n",
        "        print(f\"Error: An issue occurred while reading the file '{file_path}'.\")\n",
        "\n",
        "# Example usage\n",
        "file_path = 'example.txt'  # Provide the correct file path\n",
        "for line in file_line_reader(file_path):\n",
        "    print(line)\n"
      ],
      "metadata": {
        "colab": {
          "base_uri": "https://localhost:8080/"
        },
        "id": "0hCpTfDvzY6C",
        "outputId": "f9b5eed1-2f86-4c75-d19d-2d7017045723"
      },
      "execution_count": null,
      "outputs": [
        {
          "output_type": "stream",
          "name": "stdout",
          "text": [
            "Error: The file 'example.txt' was not found.\n"
          ]
        }
      ]
    },
    {
      "cell_type": "markdown",
      "source": [
        "##Q8) Use a lambda function in Python to sort a list of tuples based on the second element of each tuple."
      ],
      "metadata": {
        "id": "q1uxQaF7zqIs"
      }
    },
    {
      "cell_type": "code",
      "source": [
        "tuples_list = [(1, 3), (4, 1), (2, 5), (7, 2)]\n",
        "sorted_list = sorted(tuples_list, key=lambda x: x[1])\n",
        "\n",
        "# Example usage\n",
        "print(sorted_list)\n"
      ],
      "metadata": {
        "colab": {
          "base_uri": "https://localhost:8080/"
        },
        "id": "WbHkcDdgzyjh",
        "outputId": "73d5eecd-49d7-453d-a5cb-1286a86bc8d0"
      },
      "execution_count": null,
      "outputs": [
        {
          "output_type": "stream",
          "name": "stdout",
          "text": [
            "[(4, 1), (7, 2), (1, 3), (2, 5)]\n"
          ]
        }
      ]
    },
    {
      "cell_type": "markdown",
      "source": [
        "##Q9) Write a Python program that uses map() to convert a list of temperatures from Celsius to Fahrenheit."
      ],
      "metadata": {
        "id": "4HF0W4Rxz2lN"
      }
    },
    {
      "cell_type": "code",
      "source": [
        "def celsius_to_fahrenheit(celsius):\n",
        "    return (celsius * 9/5) + 32\n",
        "\n",
        "celsius_list = [0, 20, 37, 100]\n",
        "fahrenheit_list = list(map(celsius_to_fahrenheit, celsius_list))\n",
        "\n",
        "# Example usage\n",
        "print(fahrenheit_list)\n"
      ],
      "metadata": {
        "colab": {
          "base_uri": "https://localhost:8080/"
        },
        "id": "ytlYLa8hz9Us",
        "outputId": "b0fd3eb7-319c-4a2a-9192-187a00636859"
      },
      "execution_count": null,
      "outputs": [
        {
          "output_type": "stream",
          "name": "stdout",
          "text": [
            "[32.0, 68.0, 98.6, 212.0]\n"
          ]
        }
      ]
    },
    {
      "cell_type": "markdown",
      "source": [
        "##Q10) Create a Python program that uses filter() to remove all the vowels from a given string."
      ],
      "metadata": {
        "id": "sK8auzFs0DoI"
      }
    },
    {
      "cell_type": "code",
      "source": [
        "def remove_vowels(s):\n",
        "    vowels = 'aeiouAEIOU'\n",
        "    return ''.join(filter(lambda char: char not in vowels, s))\n",
        "\n",
        "# Example usage\n",
        "input_string = \"Hello World\"\n",
        "print(remove_vowels(input_string))\n"
      ],
      "metadata": {
        "colab": {
          "base_uri": "https://localhost:8080/"
        },
        "id": "vqOnsZcs0HGk",
        "outputId": "93992149-5fbb-4a75-bba1-24fe983c1f1f"
      },
      "execution_count": null,
      "outputs": [
        {
          "output_type": "stream",
          "name": "stdout",
          "text": [
            "Hll Wrld\n"
          ]
        }
      ]
    },
    {
      "cell_type": "markdown",
      "source": [
        "##Q11)Imagine an accounting routine used in a book shop. It works on a list with sublists, which look like this:\n",
        "\n",
        "\n",
        "\n",
        "##Write a Python program, which returns a list with 2-tuples. Each tuple consists of the order number and the product of the price per item and the quantity. The product should be increased by 10,- € if the value of the order is smaller than 100,00 €.\n",
        "\n",
        "##Write a Python program using lambda and map.\n",
        "\n",
        "\n",
        "#Ans- **Problem Breakdown:**\n",
        "\n",
        "\n",
        "\n",
        "\n",
        "\n",
        "*   We are given a list with sublists, where each sublist contains:\n",
        "\n",
        " *   Order number\n",
        " *   Book title and author\n",
        " *   Quantity\n",
        " *   Price per item\n",
        "\n",
        "\n",
        "\n",
        "\n",
        "\n",
        "*  We need to create a Python program that:\n",
        "\n",
        "*   Returns a list of 2-tuples, where each tuple contains the order number and\n",
        "     the product of the price per item and the quantity.\n",
        "\n",
        "\n",
        "  *    If the total value of the order is smaller than €100, the product should be increased by €10.\n",
        "\n",
        "\n",
        "**Solution Using lambda and map:**\n",
        "\n",
        "\n",
        "\n",
        "\n",
        "\n",
        "\n",
        "\n",
        "\n",
        "\n"
      ],
      "metadata": {
        "id": "BnWEpmUQ0ljy"
      }
    },
    {
      "cell_type": "code",
      "source": [
        "# Data representing the orders\n",
        "orders = [\n",
        "    [34587, \"Learning Python, Mark Lutz\", 4, 40.95],\n",
        "    [98762, \"Programming Python, Mark Lutz\", 5, 56.80],\n",
        "    [77226, \"Head First Python, Paul Barry\", 3, 32.95],\n",
        "    [88112, \"Einführung in Python3, Bernd Klein\", 3, 24.99]\n",
        "]\n",
        "\n",
        "# Function to calculate the total price, apply the 10€ increase if needed\n",
        "calculate_total = lambda order: (order[0], order[2] * order[3] + (10 if order[2] * order[3] < 100 else 0))\n",
        "\n",
        "# Use map to apply the lambda function to each order\n",
        "updated_orders = list(map(calculate_total, orders))\n",
        "\n",
        "# Example usage\n",
        "print(updated_orders)\n"
      ],
      "metadata": {
        "colab": {
          "base_uri": "https://localhost:8080/"
        },
        "id": "xKVKGG_c39gM",
        "outputId": "4ab8325c-7424-42a4-d3c2-a5551708bde9"
      },
      "execution_count": null,
      "outputs": [
        {
          "output_type": "stream",
          "name": "stdout",
          "text": [
            "[(34587, 163.8), (98762, 284.0), (77226, 108.85000000000001), (88112, 84.97)]\n"
          ]
        }
      ]
    },
    {
      "cell_type": "markdown",
      "source": [
        "**Explanation:**\n",
        "\n",
        "*   **Data Structure:** The orders list contains sublists, each representing an order.\n",
        "*  **Lambda Function:** The lambda function calculates the total for each order and checks if the value is less than €100. If it is, an additional €10 is added.\n",
        "\n",
        "*   **Map:** We use map to apply the lambda function to each sublist in orders.\n",
        "\n",
        "\n",
        "**Expected Output:**\n",
        "\n",
        "For the provided data, the program will return:\n",
        "\n",
        "\n",
        "\n",
        "\n",
        "\n"
      ],
      "metadata": {
        "id": "8WdHQzLy417q"
      }
    },
    {
      "cell_type": "code",
      "source": [
        "[(34587, 163.8), (98762, 284.0), (77226, 98.85), (88112, 84.97)]\n"
      ],
      "metadata": {
        "colab": {
          "base_uri": "https://localhost:8080/"
        },
        "id": "TM7kwx875dd4",
        "outputId": "29e69c98-d4f7-4079-8f3f-2681aa98f21a"
      },
      "execution_count": null,
      "outputs": [
        {
          "output_type": "execute_result",
          "data": {
            "text/plain": [
              "[(34587, 163.8), (98762, 284.0), (77226, 98.85), (88112, 84.97)]"
            ]
          },
          "metadata": {},
          "execution_count": 18
        }
      ]
    },
    {
      "cell_type": "markdown",
      "source": [
        "\n",
        "\n",
        "*   First order: Total = 4 * 40.95 = €163.80 (no increment since it’s more than €100)\n",
        "\n",
        "\n",
        "\n",
        "*   Second order: Total = 5 * 56.80 = €284.00 (no increment since it’s more than €100)\n",
        "\n",
        "\n",
        "*   Third order: Total = 3 * 32.95 = €98.85 (increment of €10 added since it’s less than €100)\n",
        "\n",
        "\n",
        "*   Fourth order: Total = 3 * 24.99 = €84.97 (increment of €10 added since it’s less than €100)\n",
        "\n"
      ],
      "metadata": {
        "id": "I03ROrwE5fZt"
      }
    }
  ]
}