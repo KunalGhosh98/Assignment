{
  "nbformat": 4,
  "nbformat_minor": 0,
  "metadata": {
    "colab": {
      "provenance": []
    },
    "kernelspec": {
      "name": "python3",
      "display_name": "Python 3"
    },
    "language_info": {
      "name": "python"
    }
  },
  "cells": [
    {
      "cell_type": "markdown",
      "source": [
        "##Q1) What are the five key concepts of Object-Oriented Programming (OOP)?\n",
        "\n",
        "\n",
        "\n",
        "##Ans- The five key concepts of OOP are:\n",
        "\n",
        "\n",
        "\n",
        "*   **Class:** A blueprint for creating objects. It defines attributes (data) and methods (functions) that describe the behavior of the objects.\n",
        "\n",
        "*   **Object:** An instance of a class. Objects hold the data and functionality defined in the class.\n",
        "\n",
        "*   **Encapsulation:** Restricts access to the inner workings of a class and allows it to be manipulated only through well-defined interfaces. This ensures that object data is protected and not altered unexpectedly.\n",
        "\n",
        "\n",
        "*   **Inheritance:** Allows a class (child class) to inherit properties and methods from another class (parent class), promoting code reuse.\n",
        "\n",
        "\n",
        "\n",
        "*  **Polymorphism:** Enables objects of different classes to respond to the same method in their own way, allowing for flexible and dynamic code execution.\n",
        "\n",
        "\n",
        "\n",
        "\n"
      ],
      "metadata": {
        "id": "n3i8tEl87VJe"
      }
    },
    {
      "cell_type": "markdown",
      "source": [
        "##Q2) Write a Python class for a Car with attributes for make, model, and year. Include a method to display the car's information.\n",
        "\n",
        "\n",
        "\n",
        "\n",
        "##Ans-"
      ],
      "metadata": {
        "id": "OjYUOyDt794t"
      }
    },
    {
      "cell_type": "code",
      "source": [
        "class Car:\n",
        "    def __init__(self, make, model, year):\n",
        "        self.make = make\n",
        "        self.model = model\n",
        "        self.year = year\n",
        "\n",
        "    def display_info(self):\n",
        "        return f\"Car: {self.year} {self.make} {self.model}\"\n",
        "\n",
        "# Example usage\n",
        "my_car = Car(\"Toyota\", \"Corolla\", 2020)\n",
        "print(my_car.display_info())\n"
      ],
      "metadata": {
        "colab": {
          "base_uri": "https://localhost:8080/"
        },
        "id": "ugxKLT-28ERl",
        "outputId": "4d4d3ed0-c0fb-4afb-de82-42826ec7597e"
      },
      "execution_count": null,
      "outputs": [
        {
          "output_type": "stream",
          "name": "stdout",
          "text": [
            "Car: 2020 Toyota Corolla\n"
          ]
        }
      ]
    },
    {
      "cell_type": "markdown",
      "source": [
        "This class defines a **Car** with the attributes **make, model, and year**. The **display_info** method outputs the car's details."
      ],
      "metadata": {
        "id": "Lv0vaDEA8NHd"
      }
    },
    {
      "cell_type": "markdown",
      "source": [
        "##Q3) Explain the difference between instance methods and class methods. Provide an example of each.\n",
        "\n",
        "\n",
        "\n",
        "\n",
        "\n",
        "##Ans- **Instance Method:** Operates on an instance of the class. It can access instance-specific data and is invoked on an object of the class.\n",
        "\n",
        "##**Example:**"
      ],
      "metadata": {
        "id": "B6O9j86V8XIt"
      }
    },
    {
      "cell_type": "code",
      "source": [
        "class Example:\n",
        "    def instance_method(self):\n",
        "        return \"Called on an instance\"\n",
        "\n",
        "obj = Example()\n",
        "print(obj.instance_method())\n"
      ],
      "metadata": {
        "colab": {
          "base_uri": "https://localhost:8080/"
        },
        "id": "pSOcLDaP8lTT",
        "outputId": "68d53e15-6466-4c5f-d5a6-db3567a87cb9"
      },
      "execution_count": null,
      "outputs": [
        {
          "output_type": "stream",
          "name": "stdout",
          "text": [
            "Called on an instance\n"
          ]
        }
      ]
    },
    {
      "cell_type": "markdown",
      "source": [
        "\n",
        "*   **Class Method:** Operates on the class itself rather than instances of the class. It is defined using the **@classmethod** decorator and receives the class as the first argument **(cls)**.\n",
        "\n",
        "**Example:**\n",
        "\n"
      ],
      "metadata": {
        "id": "G4A_zHKJ8s3c"
      }
    },
    {
      "cell_type": "code",
      "source": [
        "class Example:\n",
        "    @classmethod\n",
        "    def class_method(cls):\n",
        "        return \"Called on the class\"\n",
        "\n",
        "print(Example.class_method())\n"
      ],
      "metadata": {
        "colab": {
          "base_uri": "https://localhost:8080/"
        },
        "id": "tRdlzQeW85L0",
        "outputId": "f5754c57-af7c-4690-8bc2-536f5957102e"
      },
      "execution_count": null,
      "outputs": [
        {
          "output_type": "stream",
          "name": "stdout",
          "text": [
            "Called on the class\n"
          ]
        }
      ]
    },
    {
      "cell_type": "markdown",
      "source": [
        "##Q4) How does Python implement method overloading? Give an example.\n",
        "\n",
        "\n",
        "\n",
        "\n",
        "##Ans- Python does not support traditional method overloading like in other languages such as Java. However, method overloading can be mimicked by providing default arguments in functions or using variable arguments **(args, kwargs).**\n",
        "\n",
        "\n",
        "\n",
        "\n",
        "\n",
        "**Example:**"
      ],
      "metadata": {
        "id": "o3KZ4w2z883c"
      }
    },
    {
      "cell_type": "code",
      "source": [
        "class Example:\n",
        "    def add(self, a, b=0):\n",
        "        return a + b\n",
        "\n",
        "# Example usage\n",
        "obj = Example()\n",
        "print(obj.add(5))\n",
        "print(obj.add(5, 10))\n"
      ],
      "metadata": {
        "colab": {
          "base_uri": "https://localhost:8080/"
        },
        "id": "wxeXzhph9SFU",
        "outputId": "bf5f067a-1a84-4dea-c8d1-facab117c83e"
      },
      "execution_count": null,
      "outputs": [
        {
          "output_type": "stream",
          "name": "stdout",
          "text": [
            "5\n",
            "15\n"
          ]
        }
      ]
    },
    {
      "cell_type": "markdown",
      "source": [
        "Here, the **add** method works with one or two arguments, demonstrating a form of overloading."
      ],
      "metadata": {
        "id": "JjVXTQGR9XED"
      }
    },
    {
      "cell_type": "markdown",
      "source": [
        "##Q5) What are the three types of access modifiers in Python? How are they denoted?\n",
        "\n",
        "\n",
        "\n",
        "\n",
        "\n",
        "\n",
        "##Ans- Python uses naming conventions for access control rather than strict access modifiers:\n",
        "\n",
        "\n",
        "\n",
        "\n",
        "\n",
        "*   **Public:** Accessible from anywhere. No leading underscore **(_)**. Example: **self.name**\n",
        "\n",
        "*   **Protected:** Intended for internal use but can still be accessed from outside (conventionally, not strictly enforced). Single leading underscore **(_)**. Example: **self._name**\n",
        "\n",
        "\n",
        "*  **Private:** Not accessible outside the class (name mangling is used to make it harder to access). Double leading underscore **(__)**. Example: **self.__name**\n",
        "\n",
        "\n",
        "\n",
        "\n",
        "\n",
        "\n",
        "\n",
        "##Q6)Describe the five types of inheritance in Python. Provide a simple example of multiple inheritance.\n",
        "\n",
        "\n",
        "\n",
        "\n",
        "##Ans-\n",
        "\n",
        "*   **Single Inheritance:** A class inherits from one base class.\n",
        "\n",
        "*   **Multiple Inheritance:** A class inherits from more than one base class.\n",
        "\n",
        "*   **Multilevel Inheritance:** A class is derived from another derived class.\n",
        "\n",
        "*   **Hierarchical Inheritance:** Multiple derived classes inherit from a single base class.\n",
        "  \n",
        "*   **Hybrid Inheritance:** A combination of two or more types of inheritance.\n",
        "\n",
        "\n",
        "Example of Multiple Inheritance:\n",
        "\n",
        "\n",
        "\n",
        "\n",
        "\n",
        "\n"
      ],
      "metadata": {
        "id": "0ZaB_aD99ZhU"
      }
    },
    {
      "cell_type": "code",
      "source": [
        "class ClassA:\n",
        "    def method_a(self):\n",
        "        return \"Method A\"\n",
        "\n",
        "class ClassB:\n",
        "    def method_b(self):\n",
        "        return \"Method B\"\n",
        "\n",
        "class ClassC(ClassA, ClassB):\n",
        "    pass\n",
        "\n",
        "obj = ClassC()\n",
        "print(obj.method_a())\n",
        "print(obj.method_b())\n"
      ],
      "metadata": {
        "colab": {
          "base_uri": "https://localhost:8080/"
        },
        "id": "rv2W1c9Q-7P7",
        "outputId": "47ca7988-f3a6-43a4-c577-41260dff17c7"
      },
      "execution_count": null,
      "outputs": [
        {
          "output_type": "stream",
          "name": "stdout",
          "text": [
            "Method A\n",
            "Method B\n"
          ]
        }
      ]
    },
    {
      "cell_type": "markdown",
      "source": [
        "##Q7)What is the Method Resolution Order (MRO) in Python? How can you retrieve it programmatically?\n",
        "\n",
        "\n",
        "\n",
        "\n",
        "\n",
        "##Ans- **Method Resolution Order (MRO)** defines the order in which Python looks for a method in a hierarchy of classes during inheritance. This is especially relevant in multiple inheritance scenarios where a method could be present in more than one parent class. Python uses the **C3 linearization algorithm** to determine the MRO, ensuring that the child class is checked first, followed by its parents (in the order they were inherited).\n",
        "\n",
        "##We can retrieve the MRO programmatically using the __mro__ attribute or the **mro()** method.\n",
        "\n",
        "##**Example:**"
      ],
      "metadata": {
        "id": "YbhpJY4N_Nz0"
      }
    },
    {
      "cell_type": "code",
      "source": [
        "class A:\n",
        "    pass\n",
        "\n",
        "class B(A):\n",
        "    pass\n",
        "\n",
        "class C(B):\n",
        "    pass\n",
        "\n",
        "print(C.__mro__)\n",
        "print(C.mro())\n"
      ],
      "metadata": {
        "colab": {
          "base_uri": "https://localhost:8080/"
        },
        "id": "APJs_Ihh_mJr",
        "outputId": "740751bb-f8d4-44bd-bd1e-bdedb5e4854e"
      },
      "execution_count": null,
      "outputs": [
        {
          "output_type": "stream",
          "name": "stdout",
          "text": [
            "(<class '__main__.C'>, <class '__main__.B'>, <class '__main__.A'>, <class 'object'>)\n",
            "[<class '__main__.C'>, <class '__main__.B'>, <class '__main__.A'>, <class 'object'>]\n"
          ]
        }
      ]
    },
    {
      "cell_type": "markdown",
      "source": [
        "##Q8)Create an abstract base class **Shape** with an abstract method **area()**. Then create two subclasses **Circle** and **Rectangle** that implement the **area()** method.\n",
        "\n",
        "\n",
        "\n",
        "\n",
        "\n",
        "##Ans - To create an abstract base class in Python, we use the **abc** module. This module allows you to define methods that must be implemented by any subclass."
      ],
      "metadata": {
        "id": "ZUJ6JnN__zX6"
      }
    },
    {
      "cell_type": "code",
      "source": [
        "from abc import ABC, abstractmethod\n",
        "import math\n",
        "\n",
        "class Shape(ABC):\n",
        "    @abstractmethod\n",
        "    def area(self):\n",
        "        pass\n",
        "\n",
        "class Circle(Shape):\n",
        "    def __init__(self, radius):\n",
        "        self.radius = radius\n",
        "\n",
        "    def area(self):\n",
        "        return math.pi * self.radius ** 2\n",
        "\n",
        "class Rectangle(Shape):\n",
        "    def __init__(self, width, height):\n",
        "        self.width = width\n",
        "        self.height = height\n",
        "\n",
        "    def area(self):\n",
        "        return self.width * self.height\n",
        "\n",
        "# Example usage\n",
        "circle = Circle(5)\n",
        "rectangle = Rectangle(4, 6)\n",
        "print(circle.area())\n",
        "print(rectangle.area())\n"
      ],
      "metadata": {
        "colab": {
          "base_uri": "https://localhost:8080/"
        },
        "id": "WpaiCreZAHtA",
        "outputId": "f724f4c8-0c53-475b-ec6e-ff0d9ecd2e6b"
      },
      "execution_count": null,
      "outputs": [
        {
          "output_type": "stream",
          "name": "stdout",
          "text": [
            "78.53981633974483\n",
            "24\n"
          ]
        }
      ]
    },
    {
      "cell_type": "markdown",
      "source": [
        "In this example, both the **Circle** and **Rectangle** classes implement the abstract **area()** method from the **Shape** class."
      ],
      "metadata": {
        "id": "6QF6nVEbAQNe"
      }
    },
    {
      "cell_type": "markdown",
      "source": [
        "##Q9)Demonstrate polymorphism by creating a function that can work with different shape objects to calculate and print their areas.\n",
        "\n",
        "\n",
        "\n",
        "##Ans- Polymorphism allows us to use a single interface to work with objects of different types. Here, we'll create a function that can work with any **Shape** subclass, such as **Circle** and **Rectangle.**"
      ],
      "metadata": {
        "id": "jGsiIUIYAYfp"
      }
    },
    {
      "cell_type": "code",
      "source": [
        "def print_area(shape):\n",
        "    print(f\"The area is: {shape.area()}\")\n",
        "\n",
        "# Example usage\n",
        "circle = Circle(3)\n",
        "rectangle = Rectangle(2, 5)\n",
        "\n",
        "print_area(circle)\n",
        "print_area(rectangle)\n"
      ],
      "metadata": {
        "colab": {
          "base_uri": "https://localhost:8080/"
        },
        "id": "BUlSEvXjAj5K",
        "outputId": "51396347-e19f-4593-cac2-f817b0b5de27"
      },
      "execution_count": null,
      "outputs": [
        {
          "output_type": "stream",
          "name": "stdout",
          "text": [
            "The area is: 28.274333882308138\n",
            "The area is: 10\n"
          ]
        }
      ]
    },
    {
      "cell_type": "markdown",
      "source": [
        "##Q10)Implement encapsulation in a **BankAccount** class with private attributes for **balance** and **account_number**. Include methods for deposit, withdrawal, and balance inquiry.\n",
        "\n",
        "\n",
        "\n",
        "\n",
        "##Ans- Encapsulation restricts access to certain data by marking it as private. In Python, this is done by prefixing attributes with two underscores **(__)**."
      ],
      "metadata": {
        "id": "0Cqc4yHEArlJ"
      }
    },
    {
      "cell_type": "code",
      "source": [
        "class BankAccount:\n",
        "    def __init__(self, account_number, balance=0):\n",
        "        self.__account_number = account_number\n",
        "        self.__balance = balance\n",
        "\n",
        "    def deposit(self, amount):\n",
        "        if amount > 0:\n",
        "            self.__balance += amount\n",
        "            return f\"Deposited {amount}. New balance is {self.__balance}\"\n",
        "        return \"Invalid amount\"\n",
        "\n",
        "    def withdraw(self, amount):\n",
        "        if 0 < amount <= self.__balance:\n",
        "            self.__balance -= amount\n",
        "            return f\"Withdrew {amount}. Remaining balance is {self.__balance}\"\n",
        "        return \"Invalid or insufficient funds\"\n",
        "\n",
        "    def get_balance(self):\n",
        "        return f\"Balance: {self.__balance}\"\n",
        "\n",
        "    def get_account_number(self):\n",
        "        return self.__account_number\n",
        "\n",
        "# Example usage\n",
        "account = BankAccount(12345678, 100)\n",
        "print(account.deposit(50))\n",
        "print(account.withdraw(30))\n",
        "print(account.get_balance())\n"
      ],
      "metadata": {
        "colab": {
          "base_uri": "https://localhost:8080/"
        },
        "id": "Ht33v0W4A9Wo",
        "outputId": "8b044192-877a-42f2-ea8b-f4e5d8a713c3"
      },
      "execution_count": null,
      "outputs": [
        {
          "output_type": "stream",
          "name": "stdout",
          "text": [
            "Deposited 50. New balance is 150\n",
            "Withdrew 30. Remaining balance is 120\n",
            "Balance: 120\n"
          ]
        }
      ]
    },
    {
      "cell_type": "markdown",
      "source": [
        "Here, the **balance** and **account_number** attributes are private, and access to them is restricted through specific methods."
      ],
      "metadata": {
        "id": "X-frOowXBPtt"
      }
    },
    {
      "cell_type": "markdown",
      "source": [
        "##Q11)Write a class that overrides the __str__ and __add__ magic methods. What will these methods allow you to do?\n",
        "\n",
        "\n",
        "\n",
        "\n",
        "\n",
        "##Ans- The **__str__** method allows you to define how an object is represented as a string, while the **__add__** method allows you to define how objects are added together using the **+** operator.\n",
        "\n",
        "\n",
        "**Example:**"
      ],
      "metadata": {
        "id": "j1Bl0KABBU14"
      }
    },
    {
      "cell_type": "code",
      "source": [
        "class Book:\n",
        "    def __init__(self, title, price):\n",
        "        self.title = title\n",
        "        self.price = price\n",
        "\n",
        "    def __str__(self):\n",
        "        return f\"Book: {self.title}, Price: {self.price}\"\n",
        "\n",
        "    def __add__(self, other):\n",
        "        return self.price + other.price\n",
        "\n",
        "# Example usage\n",
        "book1 = Book(\"Book A\", 50)\n",
        "book2 = Book(\"Book B\", 75)\n",
        "\n",
        "print(str(book1))\n",
        "print(book1 + book2)\n"
      ],
      "metadata": {
        "colab": {
          "base_uri": "https://localhost:8080/"
        },
        "id": "6Mn0KrzqBhHX",
        "outputId": "229601d2-02fd-443d-bb1e-6c603ebb1bc3"
      },
      "execution_count": null,
      "outputs": [
        {
          "output_type": "stream",
          "name": "stdout",
          "text": [
            "Book: Book A, Price: 50\n",
            "125\n"
          ]
        }
      ]
    },
    {
      "cell_type": "markdown",
      "source": [
        "*   The __str__ method allows us to define a human-readable representation of the object (what gets printed when we use print).\n",
        "\n",
        "\n",
        "*   The __add__ method allows two Book objects to be added together, and in this case, it sums up their prices.\n",
        "\n"
      ],
      "metadata": {
        "id": "bt_ePVQxBoR6"
      }
    },
    {
      "cell_type": "markdown",
      "source": [
        "##Q12)Create a decorator that measures and prints the execution time of a function.\n",
        "\n",
        "\n",
        "\n",
        "\n",
        "##Ans- In Python, a **decorator** is a function that takes another function and extends its behavior without modifying it. Here, we'll create a decorator to measure the time a function takes to execute."
      ],
      "metadata": {
        "id": "W7r27YmLBvfX"
      }
    },
    {
      "cell_type": "code",
      "source": [
        "import time\n",
        "\n",
        "def timer_decorator(func):\n",
        "    def wrapper(*args, **kwargs):\n",
        "        start_time = time.time()\n",
        "        result = func(*args, **kwargs)\n",
        "        end_time = time.time()\n",
        "        execution_time = end_time - start_time\n",
        "        print(f\"Execution time: {execution_time:.4f} seconds\")\n",
        "        return result\n",
        "    return wrapper\n",
        "\n",
        "# Example usage\n",
        "@timer_decorator\n",
        "def some_function():\n",
        "    time.sleep(1)\n",
        "    print(\"Function completed\")\n",
        "\n",
        "some_function()\n"
      ],
      "metadata": {
        "colab": {
          "base_uri": "https://localhost:8080/"
        },
        "id": "jJ1CrmwNB6Lv",
        "outputId": "f60967b2-5d39-4e73-9106-288557619d49"
      },
      "execution_count": null,
      "outputs": [
        {
          "output_type": "stream",
          "name": "stdout",
          "text": [
            "Function completed\n",
            "Execution time: 1.0026 seconds\n"
          ]
        }
      ]
    },
    {
      "cell_type": "markdown",
      "source": [
        "In this example, the **timer_decorator** measures the execution time of the decorated function **some_function()** by recording the start and end times using **time.time()**."
      ],
      "metadata": {
        "id": "lKvO56F4B_jW"
      }
    },
    {
      "cell_type": "markdown",
      "source": [
        "##Q13)Explain the concept of the Diamond Problem in multiple inheritance. How does Python resolve it?\n",
        "\n",
        "\n",
        "\n",
        "\n",
        "\n",
        "\n",
        "##Ans-The **Diamond Problem** occurs in programming languages that allow multiple inheritance. It refers to a scenario where a class inherits from two classes that both inherit from a common base class, forming a diamond shape in the inheritance diagram. This leads to ambiguity when methods or properties from the common base class are invoked, as it is unclear which path should be taken to resolve the call.\n",
        "\n",
        "##Consider this inheritance structure:\n",
        "\n",
        "![Screenshot (68).png](data:image/png;base64,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)\n",
        "\n",
        "\n",
        "\n",
        "Class **D** inherits from both **B** and **C**, and both **B** and **C** inherit from **A**. If **D** tries to access a method from **A**, it can be ambiguous whether to follow the **B -> A** path or the **C -> A** path.\n",
        "\n",
        "\n",
        "\n",
        "Python resolves this problem using the **Method Resolution Order (MRO)**. The MRO is a well-defined linear order of inheritance that ensures a consistent lookup for methods. Python uses the **C3 linearization algorithm** to calculate the MRO, which resolves any ambiguity by determining a unique method search order."
      ],
      "metadata": {
        "id": "2BilkOMCCFsh"
      }
    },
    {
      "cell_type": "code",
      "source": [
        "class A:\n",
        "    def method(self):\n",
        "        print(\"Method from A\")\n",
        "\n",
        "class B(A):\n",
        "    pass\n",
        "\n",
        "class C(A):\n",
        "    pass\n",
        "\n",
        "class D(B, C):\n",
        "    pass\n",
        "\n",
        "d = D()\n",
        "d.method()\n",
        "print(D.mro())\n"
      ],
      "metadata": {
        "colab": {
          "base_uri": "https://localhost:8080/"
        },
        "id": "Njt8kBznD2ER",
        "outputId": "354dd8d5-7585-40ce-86e5-a3d5b44a8e81"
      },
      "execution_count": null,
      "outputs": [
        {
          "output_type": "stream",
          "name": "stdout",
          "text": [
            "Method from A\n",
            "[<class '__main__.D'>, <class '__main__.B'>, <class '__main__.C'>, <class '__main__.A'>, <class 'object'>]\n"
          ]
        }
      ]
    },
    {
      "cell_type": "markdown",
      "source": [
        "Here, Python checks the method resolution order from **D** to **B**, then **C**, and finally **A**."
      ],
      "metadata": {
        "id": "M0t-B8HoD72l"
      }
    },
    {
      "cell_type": "markdown",
      "source": [
        "##Q14)Write a class method that keeps track of the number of instances created from a class.\n",
        "\n",
        "\n",
        "\n",
        "##Ans- Class methods are used when we need a method to work with the class itself rather than its instance. We can use a class attribute to keep track of the number of instances."
      ],
      "metadata": {
        "id": "PpWXNHOYEAlM"
      }
    },
    {
      "cell_type": "code",
      "source": [
        "class InstanceCounter:\n",
        "    instance_count = 0\n",
        "\n",
        "    def __init__(self):\n",
        "        InstanceCounter.instance_count += 1\n",
        "\n",
        "    @classmethod\n",
        "    def get_instance_count(cls):\n",
        "        return f\"Total instances: {cls.instance_count}\"\n",
        "\n",
        "# Example usage\n",
        "obj1 = InstanceCounter()\n",
        "obj2 = InstanceCounter()\n",
        "print(InstanceCounter.get_instance_count())\n"
      ],
      "metadata": {
        "colab": {
          "base_uri": "https://localhost:8080/"
        },
        "id": "goffSIhCEIN7",
        "outputId": "0a236642-379a-4ca7-8dd6-534b73b19d52"
      },
      "execution_count": null,
      "outputs": [
        {
          "output_type": "stream",
          "name": "stdout",
          "text": [
            "Total instances: 2\n"
          ]
        }
      ]
    },
    {
      "cell_type": "markdown",
      "source": [
        "Here, **instance_count** is a class attribute that increments every time a new instance of **InstanceCounter** is created. The **get_instance_count** method, being a class method, retrieves the total number of instances."
      ],
      "metadata": {
        "id": "8vDgnV5BEMXl"
      }
    },
    {
      "cell_type": "markdown",
      "source": [
        "##Q15)Implement a static method in a class that checks if a given year is a leap year.\n",
        "\n",
        "\n",
        "\n",
        "\n",
        "##Ans-Static methods in Python don’t access or modify the class state; they are used to create utility functions that belong to a class but don’t need to access the class or instance data."
      ],
      "metadata": {
        "id": "exHaOYgrEWX-"
      }
    },
    {
      "cell_type": "code",
      "source": [
        "class DateUtils:\n",
        "    @staticmethod\n",
        "    def is_leap_year(year):\n",
        "        if (year % 4 == 0 and year % 100 != 0) or (year % 400 == 0):\n",
        "            return True\n",
        "        return False\n",
        "\n",
        "# Example usage\n",
        "print(DateUtils.is_leap_year(2020))\n",
        "print(DateUtils.is_leap_year(2023))\n"
      ],
      "metadata": {
        "colab": {
          "base_uri": "https://localhost:8080/"
        },
        "id": "UFxnxrpXEej2",
        "outputId": "01795a32-ad85-4b8e-a8e8-96e0da6d7446"
      },
      "execution_count": null,
      "outputs": [
        {
          "output_type": "stream",
          "name": "stdout",
          "text": [
            "True\n",
            "False\n"
          ]
        }
      ]
    },
    {
      "cell_type": "markdown",
      "source": [
        "In this example, the **is_leap_year** method checks if a given year is a leap year by applying the well-known rules:\n",
        "\n",
        "*   A year is a leap year if it is divisible by 4.\n",
        "\n",
        "*   However, if the year is divisible by 100, it must also be divisible by 400 to be considered a leap year.\n",
        "\n"
      ],
      "metadata": {
        "id": "U0xbB6vVElbF"
      }
    }
  ]
}