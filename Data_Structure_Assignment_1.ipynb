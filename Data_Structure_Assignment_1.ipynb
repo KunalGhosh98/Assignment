{
  "nbformat": 4,
  "nbformat_minor": 0,
  "metadata": {
    "colab": {
      "provenance": []
    },
    "kernelspec": {
      "name": "python3",
      "display_name": "Python 3"
    },
    "language_info": {
      "name": "python"
    }
  },
  "cells": [
    {
      "cell_type": "markdown",
      "source": [
        "##Q1)Discuss string slicing and provide examples.\n",
        "\n",
        "##Ans- **String Slicing in Python**\n",
        "\n",
        "String slicing in Python is a technique used to extract a portion of a string. It allows you to access a substring by specifying a range of indices. This is a powerful feature for string manipulation, making it easy to work with specific parts of a string.\n",
        "\n",
        "**Basic Syntax of String Slicing**\n",
        "\n",
        "The syntax for string slicing is:\n",
        "\n",
        "**string[start:stop:step]**\n",
        "\n",
        "\n",
        "\n",
        "*   **'start'**: The index where the slice begins (inclusive). If omitted, the slice starts from the beginning of the string.\n",
        "\n",
        "*   **'stop'**: The index where the slice ends (exclusive). If omitted, the slice goes until the end of the string.\n",
        "\n",
        "*   **'step'**: The step size, which determines how many characters to skip. If omitted, the default step size is 1.\n",
        "\n",
        "**Examples of String Slicing**\n",
        "\n",
        "\n",
        "\n",
        "**1.   Basic Slicing**\n",
        "\n"
      ],
      "metadata": {
        "id": "FX2kWatcifUr"
      }
    },
    {
      "cell_type": "code",
      "source": [
        "text = \"Hello, World!\"\n",
        "slice1 = text[0:5]\n",
        "print(slice1)\n"
      ],
      "metadata": {
        "colab": {
          "base_uri": "https://localhost:8080/"
        },
        "id": "_di9K30Mk2F4",
        "outputId": "fd73ef0d-20cd-4a64-deea-72bef1ff3325"
      },
      "execution_count": null,
      "outputs": [
        {
          "output_type": "stream",
          "name": "stdout",
          "text": [
            "Hello\n"
          ]
        }
      ]
    },
    {
      "cell_type": "markdown",
      "source": [
        "**2.**   **Omitting the 'start' and 'stop' Values**\n",
        "\n"
      ],
      "metadata": {
        "id": "3QovHcsHlvuA"
      }
    },
    {
      "cell_type": "code",
      "source": [
        "text = \"Python Programming\"\n",
        "slice2 = text[:6]\n",
        "slice3 = text[7:]\n",
        "print(slice2)\n",
        "print(slice3)\n"
      ],
      "metadata": {
        "colab": {
          "base_uri": "https://localhost:8080/"
        },
        "id": "pIYIno3Cl96X",
        "outputId": "bcb874f9-4172-4eaa-cea0-4357faaa0265"
      },
      "execution_count": null,
      "outputs": [
        {
          "output_type": "stream",
          "name": "stdout",
          "text": [
            "Python\n",
            "Programming\n"
          ]
        }
      ]
    },
    {
      "cell_type": "markdown",
      "source": [
        "**3.   Using a Negative Index**\n",
        "\n"
      ],
      "metadata": {
        "id": "KaT8VoIQmJBE"
      }
    },
    {
      "cell_type": "code",
      "source": [
        "text = \"Python\"\n",
        "slice4 = text[-6:-3]\n",
        "print(slice4)\n"
      ],
      "metadata": {
        "colab": {
          "base_uri": "https://localhost:8080/"
        },
        "id": "0fgXhGRfmRco",
        "outputId": "097b0589-b3e9-4e64-8e74-a765fb0ea749"
      },
      "execution_count": null,
      "outputs": [
        {
          "output_type": "stream",
          "name": "stdout",
          "text": [
            "Pyt\n"
          ]
        }
      ]
    },
    {
      "cell_type": "markdown",
      "source": [
        "**4.   Using the step Parameter**\n",
        "\n"
      ],
      "metadata": {
        "id": "0d7c5PmKmcAM"
      }
    },
    {
      "cell_type": "code",
      "source": [
        "text = \"abcdefgh\"\n",
        "slice5 = text[::2]\n",
        "slice6 = text[::-1]\n",
        "print(slice5)\n",
        "print(slice6)\n"
      ],
      "metadata": {
        "colab": {
          "base_uri": "https://localhost:8080/"
        },
        "id": "33kCtGEtmkqY",
        "outputId": "bbcfc288-f0cc-41d2-e3a7-71acfc891983"
      },
      "execution_count": null,
      "outputs": [
        {
          "output_type": "stream",
          "name": "stdout",
          "text": [
            "aceg\n",
            "hgfedcba\n"
          ]
        }
      ]
    },
    {
      "cell_type": "markdown",
      "source": [
        "**5.   Slicing with Both Positive and Negative Indices**\n",
        "\n"
      ],
      "metadata": {
        "id": "yAoreW2umrdi"
      }
    },
    {
      "cell_type": "code",
      "source": [
        "text = \"OpenAI Gemni-4\"\n",
        "slice7 = text[1:-2]\n",
        "print(slice7)\n"
      ],
      "metadata": {
        "colab": {
          "base_uri": "https://localhost:8080/"
        },
        "id": "us4sx8cfmyED",
        "outputId": "24d6f162-13fa-4b91-c932-9db0e52d543e"
      },
      "execution_count": null,
      "outputs": [
        {
          "output_type": "stream",
          "name": "stdout",
          "text": [
            "penAI Gemni\n"
          ]
        }
      ]
    },
    {
      "cell_type": "markdown",
      "source": [
        "##Q2)Explain the key features of lists in Python.\n",
        "\n",
        "##Ans- **Key Features of Lists in Python**\n",
        "\n",
        "Python lists are versatile and powerful data structures that allow you to store and manipulate a collection of items. Below are the key features of lists in Python:\n",
        "\n",
        "\n",
        "\n",
        "\n",
        "**1.   Ordered Collection**\n",
        "   \n",
        "\n",
        "*   **Definition**: Lists maintain the order of elements. The order in which you insert items into the list is preserved, and you can access elements using their index.\n",
        "\n",
        "\n",
        "\n",
        "*   **Example**:\n",
        "\n",
        "\n",
        "\n",
        "\n",
        "\n"
      ],
      "metadata": {
        "id": "RcmyLMMXnlQ4"
      }
    },
    {
      "cell_type": "code",
      "source": [
        "fruits = [\"apple\", \"banana\", \"cherry\"]\n",
        "print(fruits[0])  # Output: apple\n"
      ],
      "metadata": {
        "colab": {
          "base_uri": "https://localhost:8080/"
        },
        "id": "OIoIs_fnpPb2",
        "outputId": "ebde10aa-c2c4-4e23-9f15-cc8fe1aa1208"
      },
      "execution_count": null,
      "outputs": [
        {
          "output_type": "stream",
          "name": "stdout",
          "text": [
            "apple\n"
          ]
        }
      ]
    },
    {
      "cell_type": "markdown",
      "source": [
        "**2.   Mutable**\n",
        "\n",
        "\n",
        "\n",
        "\n",
        "*   **Definition**: Lists are mutable, meaning you can change their content after creation. This includes adding, removing, or modifying elements.\n",
        "\n",
        "\n",
        "\n",
        "\n",
        "*   **Example**:\n",
        "\n",
        "\n",
        "\n"
      ],
      "metadata": {
        "id": "wTd1JpPnpVgq"
      }
    },
    {
      "cell_type": "code",
      "source": [
        "numbers = [1, 2, 3]\n",
        "numbers[1] = 5\n",
        "print(numbers)\n"
      ],
      "metadata": {
        "colab": {
          "base_uri": "https://localhost:8080/"
        },
        "id": "h6KoGEXUpwUT",
        "outputId": "bdb8f5bc-2872-4b94-e79b-6dc6362e61ba"
      },
      "execution_count": null,
      "outputs": [
        {
          "output_type": "stream",
          "name": "stdout",
          "text": [
            "[1, 5, 3]\n"
          ]
        }
      ]
    },
    {
      "cell_type": "markdown",
      "source": [
        "**3.   Heterogeneous Elements**\n",
        "\n",
        "\n",
        "\n",
        "\n",
        "*   **Defination**: A list can contain elements of different data types, such as integers, strings, floats, and even other lists.\n",
        "\n",
        "\n",
        "\n",
        "*   **Exmples**:\n",
        "\n"
      ],
      "metadata": {
        "id": "H894ZJE1p33I"
      }
    },
    {
      "cell_type": "code",
      "source": [
        "mixed_list = [1, \"hello\", 3.14, [2, 4, 6]]\n",
        "print(mixed_list)\n"
      ],
      "metadata": {
        "colab": {
          "base_uri": "https://localhost:8080/"
        },
        "id": "eYS5DKvJqOyI",
        "outputId": "eec630dd-a3a2-411b-a785-d0d15e3ef056"
      },
      "execution_count": null,
      "outputs": [
        {
          "output_type": "stream",
          "name": "stdout",
          "text": [
            "[1, 'hello', 3.14, [2, 4, 6]]\n"
          ]
        }
      ]
    },
    {
      "cell_type": "markdown",
      "source": [
        "**4.   Dynamic Size**:\n",
        "\n",
        "\n",
        "\n",
        "\n",
        "\n",
        "*   **Defination**: Lists in Python can grow and shrink dynamically as elements are added or removed. You don't need to declare the size of a list when you create it.\n",
        "\n",
        "*   **Example**:\n",
        "\n",
        "\n",
        "\n"
      ],
      "metadata": {
        "id": "jV7D6JK5qanr"
      }
    },
    {
      "cell_type": "code",
      "source": [
        "letters = [\"a\", \"b\"]\n",
        "letters.append(\"c\")\n",
        "print(letters)\n"
      ],
      "metadata": {
        "colab": {
          "base_uri": "https://localhost:8080/"
        },
        "id": "mmjhGOWKrL1i",
        "outputId": "1a9a14b4-dba2-4829-8a55-2d3ec77e8331"
      },
      "execution_count": null,
      "outputs": [
        {
          "output_type": "stream",
          "name": "stdout",
          "text": [
            "['a', 'b', 'c']\n"
          ]
        }
      ]
    },
    {
      "cell_type": "markdown",
      "source": [
        "**5.   Indexing and Slicing**\n",
        "\n",
        "\n",
        "\n",
        "\n",
        "\n",
        "*   **Defination**: Lists support indexing and slicing, allowing you to access and manipulate specific elements or sublists.\n",
        "\n",
        "\n",
        "\n",
        "\n",
        "*   **Example**:\n",
        "\n",
        "\n",
        "\n",
        "\n",
        "\n"
      ],
      "metadata": {
        "id": "SBt3jkRdsE4Z"
      }
    },
    {
      "cell_type": "code",
      "source": [
        "animals = [\"cat\", \"dog\", \"bird\", \"fish\"]\n",
        "print(animals[2])\n",
        "print(animals[1:3])\n"
      ],
      "metadata": {
        "colab": {
          "base_uri": "https://localhost:8080/"
        },
        "id": "TcP8dOxfsyzB",
        "outputId": "b375d843-f67c-4270-f031-54e53bc76a50"
      },
      "execution_count": null,
      "outputs": [
        {
          "output_type": "stream",
          "name": "stdout",
          "text": [
            "bird\n",
            "['dog', 'bird']\n"
          ]
        }
      ]
    },
    {
      "cell_type": "markdown",
      "source": [
        "**6. Built-in Functions and Methods**:\n",
        "\n",
        "\n",
        "\n",
        "\n",
        "*   **Definition**: Python provides a variety of built-in functions and methods that can be used with lists, such as **'len()', 'append()', 'remove()', 'sort()', and 'reverse()'.**\n",
        "\n",
        "\n",
        "\n",
        "\n",
        "*   **Example**:\n",
        "\n",
        "\n",
        "\n",
        "\n",
        "\n"
      ],
      "metadata": {
        "id": "vxdwl7MCs8CM"
      }
    },
    {
      "cell_type": "code",
      "source": [
        "colors = [\"red\", \"blue\", \"green\"]\n",
        "colors.append(\"yellow\")\n",
        "colors.sort()\n",
        "print(colors)\n"
      ],
      "metadata": {
        "colab": {
          "base_uri": "https://localhost:8080/"
        },
        "id": "rM1F4zavtsZl",
        "outputId": "65c378ed-47b4-4e66-ce6d-1ad4c3acd833"
      },
      "execution_count": null,
      "outputs": [
        {
          "output_type": "stream",
          "name": "stdout",
          "text": [
            "['blue', 'green', 'red', 'yellow']\n"
          ]
        }
      ]
    },
    {
      "cell_type": "markdown",
      "source": [
        "**7.   List Comprehensions**:\n",
        "\n",
        "\n",
        "*   **Definition**:List comprehensions provide a concise way to create lists based on existing lists. They are useful for applying a function or filter to the elements of a list.\n",
        "\n",
        "*   **Example**:\n",
        "\n",
        "\n",
        "\n"
      ],
      "metadata": {
        "id": "rzb2MB2Ylatu"
      }
    },
    {
      "cell_type": "code",
      "source": [
        "numbers = [1, 2, 3, 4, 5]\n",
        "squares = [x**2 for x in numbers]\n",
        "print(squares)\n"
      ],
      "metadata": {
        "id": "XKLuqd7fl3v9"
      },
      "execution_count": null,
      "outputs": []
    },
    {
      "cell_type": "markdown",
      "source": [
        "**8.   Nesting**:\n",
        "\n",
        "\n",
        "*   **Definition**:Lists can be nested, meaning a list can contain other lists as elements, allowing for the creation of complex data structures like matrices.\n",
        "\n",
        "\n",
        "*   **Example**:\n",
        "\n",
        "\n",
        "\n"
      ],
      "metadata": {
        "id": "7VeJVO3omOzw"
      }
    },
    {
      "cell_type": "code",
      "source": [
        "matrix = [[1, 2, 3], [4, 5, 6], [7, 8, 9]]\n",
        "print(matrix[1][2])\n"
      ],
      "metadata": {
        "colab": {
          "base_uri": "https://localhost:8080/"
        },
        "id": "JRfv_CsPmxeT",
        "outputId": "aa9a9a35-5d3b-4e33-937d-a14e420ea983"
      },
      "execution_count": null,
      "outputs": [
        {
          "output_type": "stream",
          "name": "stdout",
          "text": [
            "6\n"
          ]
        }
      ]
    },
    {
      "cell_type": "markdown",
      "source": [
        "**9.   Supports Iteration**:\n",
        "\n",
        "\n",
        "*   **Definition**:Lists can be easily iterated over using loops, which makes them ideal for tasks that require processing each element in a sequence.\n",
        "\n",
        "*   **Example**:\n",
        "\n",
        "\n",
        "\n"
      ],
      "metadata": {
        "id": "4WYdzMaCm2_s"
      }
    },
    {
      "cell_type": "code",
      "source": [
        "for fruit in [\"apple\", \"banana\", \"cherry\"]:\n",
        "    print(fruit)\n"
      ],
      "metadata": {
        "colab": {
          "base_uri": "https://localhost:8080/"
        },
        "id": "JT1_6rQmnS33",
        "outputId": "ac6e2610-80e4-45f0-826f-53fdbdfcd84a"
      },
      "execution_count": null,
      "outputs": [
        {
          "output_type": "stream",
          "name": "stdout",
          "text": [
            "apple\n",
            "banana\n",
            "cherry\n"
          ]
        }
      ]
    },
    {
      "cell_type": "markdown",
      "source": [
        "**10.  Versatile Usage**\n",
        "\n",
        "\n",
        "*   **Definition**: Lists are used in various scenarios, such as storing items, passing multiple values between functions, implementing stacks and queues, and more.\n",
        "\n",
        "\n",
        "*   **Example**:\n",
        "\n",
        "\n",
        "\n"
      ],
      "metadata": {
        "id": "mkAfXH5inWt6"
      }
    },
    {
      "cell_type": "code",
      "source": [
        "stack = []\n",
        "stack.append(1)\n",
        "stack.append(2)\n",
        "stack.pop()\n",
        "print(stack)\n"
      ],
      "metadata": {
        "colab": {
          "base_uri": "https://localhost:8080/"
        },
        "id": "qw1098J8nycO",
        "outputId": "dded1dd5-8f32-46b1-fe8b-fc17ba2bf476"
      },
      "execution_count": null,
      "outputs": [
        {
          "output_type": "stream",
          "name": "stdout",
          "text": [
            "[1]\n"
          ]
        }
      ]
    },
    {
      "cell_type": "markdown",
      "source": [
        "##Q3)Describe how to access, modify, and delete elements in a last with examples.\n",
        "\n",
        "\n",
        "\n",
        "\n",
        "##Ans- **Accessing, Modifying, and Deleting Elements in a List**\n",
        "\n",
        "\n",
        "\n",
        "In Python, lists are dynamic arrays that allow you to store and manipulate a collection of items. Below are the methods for accessing, modifying, and deleting elements in a list, along with examples for each.\n",
        "\n",
        "\n",
        "\n",
        "\n",
        "\n",
        "**1.   Accessing Elements in a List**\n",
        "\n",
        "You can access elements in a list using their index. Python uses zero-based indexing, so the first element is at index **0**, the second at index **1**, and so on. You can also use negative indices to access elements from the end of the list.\n",
        "\n"
      ],
      "metadata": {
        "id": "yXbmwW30o6V6"
      }
    },
    {
      "cell_type": "code",
      "source": [
        "# Creating a list\n",
        "fruits = [\"apple\", \"banana\", \"cherry\", \"date\"]\n",
        "\n",
        "# Accessing elements using positive indices\n",
        "first_fruit = fruits[0]  # \"apple\"\n",
        "second_fruit = fruits[1]  # \"banana\"\n",
        "\n",
        "# Accessing elements using negative indices\n",
        "last_fruit = fruits[-1]  # \"date\"\n",
        "second_last_fruit = fruits[-2]  # \"cherry\"\n",
        "\n",
        "# Printing the accessed elements\n",
        "print(first_fruit)\n",
        "print(second_fruit)\n",
        "print(last_fruit)\n",
        "print(second_last_fruit)\n"
      ],
      "metadata": {
        "colab": {
          "base_uri": "https://localhost:8080/"
        },
        "id": "G8tS2PrbpoyY",
        "outputId": "f262d8f1-8f4c-4385-b5d5-e06834b15f87"
      },
      "execution_count": null,
      "outputs": [
        {
          "output_type": "stream",
          "name": "stdout",
          "text": [
            "apple\n",
            "banana\n",
            "date\n",
            "cherry\n"
          ]
        }
      ]
    },
    {
      "cell_type": "markdown",
      "source": [
        "**2.   Modifying Elements in a List**\n",
        "\n",
        "\n",
        "Lists are mutable, meaning you can change the value of any element after the list has been created. This is done by assigning a new value to a specific index.\n",
        "\n",
        "\n",
        "\n",
        "**Examples:**\n"
      ],
      "metadata": {
        "id": "N89X0m3yp6Pa"
      }
    },
    {
      "cell_type": "code",
      "source": [
        "# Creating a list\n",
        "numbers = [10, 20, 30, 40]\n",
        "\n",
        "# Modifying an element by index\n",
        "numbers[1] = 25  # Changing the second element from 20 to 25\n",
        "\n",
        "# Modifying the last element using a negative index\n",
        "numbers[-1] = 45  # Changing the last element from 40 to 45\n",
        "\n",
        "# Printing the modified list\n",
        "print(numbers)\n"
      ],
      "metadata": {
        "colab": {
          "base_uri": "https://localhost:8080/"
        },
        "id": "PzTPaVPJqUF0",
        "outputId": "2b9cc978-04b6-407a-a3b9-2bd1fa1d41db"
      },
      "execution_count": null,
      "outputs": [
        {
          "output_type": "stream",
          "name": "stdout",
          "text": [
            "[10, 25, 30, 45]\n"
          ]
        }
      ]
    },
    {
      "cell_type": "markdown",
      "source": [
        "**3.   Deleting Elements in a List**\n",
        "\n",
        "\n",
        "\n",
        "\n",
        "You can delete elements from a list using several methods, such as the **del** statement, the **remove()** method, or the **pop()** method.\n",
        "\n",
        "\n",
        "\n",
        "\n",
        "\n",
        "a)   Using **del** Statement\n",
        "\n",
        "\n",
        "\n",
        "The **del** statement removes an element from the list at a specified index.\n",
        "\n",
        "\n",
        "\n",
        "**Example:**\n",
        "\n",
        "\n"
      ],
      "metadata": {
        "id": "Rd9GjaLUqnK6"
      }
    },
    {
      "cell_type": "code",
      "source": [
        "# Creating a list\n",
        "animals = [\"cat\", \"dog\", \"bird\", \"fish\"]\n",
        "\n",
        "# Deleting an element by index\n",
        "del animals[1]  # Removes \"dog\" (element at index 1)\n",
        "\n",
        "# Printing the list after deletion\n",
        "print(animals)\n"
      ],
      "metadata": {
        "colab": {
          "base_uri": "https://localhost:8080/"
        },
        "id": "S71P5yQtrSL3",
        "outputId": "5a78a4ef-9015-4223-e7c7-3ec3225103ca"
      },
      "execution_count": null,
      "outputs": [
        {
          "output_type": "stream",
          "name": "stdout",
          "text": [
            "['cat', 'bird', 'fish']\n"
          ]
        }
      ]
    },
    {
      "cell_type": "markdown",
      "source": [
        "b)   Using **remove()** Method\n",
        "\n",
        "\n",
        "\n",
        "\n",
        "The **remove()** method removes the first occurrence of a specified value from the list.\n",
        "\n",
        "\n",
        "\n",
        "**Example:**\n",
        "\n",
        "\n",
        "\n"
      ],
      "metadata": {
        "id": "2CcpRD6prghG"
      }
    },
    {
      "cell_type": "code",
      "source": [
        "# Creating a list\n",
        "colors = [\"red\", \"blue\", \"green\", \"blue\"]\n",
        "\n",
        "# Removing an element by value\n",
        "colors.remove(\"blue\")  # Removes the first \"blue\" from the list\n",
        "\n",
        "# Printing the list after removal\n",
        "print(colors)\n"
      ],
      "metadata": {
        "colab": {
          "base_uri": "https://localhost:8080/"
        },
        "id": "XmfIhIBgr4e_",
        "outputId": "72968e42-d6aa-4e65-ddba-e66890a0035d"
      },
      "execution_count": null,
      "outputs": [
        {
          "output_type": "stream",
          "name": "stdout",
          "text": [
            "['red', 'green', 'blue']\n"
          ]
        }
      ]
    },
    {
      "cell_type": "markdown",
      "source": [
        "c)   Using **pop()** Method\n",
        "\n",
        "\n",
        "\n",
        "\n",
        "\n",
        "The **pop()** method removes the element at a specified index and returns it. If no index is specified, it removes and returns the last element.\n",
        "\n",
        "\n",
        "\n",
        "**Example:**\n",
        "\n"
      ],
      "metadata": {
        "id": "Bgv6sgmdr8uW"
      }
    },
    {
      "cell_type": "code",
      "source": [
        "# Creating a list\n",
        "cities = [\"New York\", \"Los Angeles\", \"Chicago\", \"Houston\"]\n",
        "\n",
        "# Popping an element by index\n",
        "popped_city = cities.pop(2)  # Removes and returns \"Chicago\" (element at index 2)\n",
        "\n",
        "# Popping the last element\n",
        "last_city = cities.pop()  # Removes and returns \"Houston\"\n",
        "\n",
        "# Printing the list after popping elements\n",
        "print(cities)\n",
        "print(popped_city)\n",
        "print(last_city)\n"
      ],
      "metadata": {
        "colab": {
          "base_uri": "https://localhost:8080/"
        },
        "id": "I9ofRtx0sQOi",
        "outputId": "d6b1b0a2-bf19-4856-b9ca-1a8f1b8d1636"
      },
      "execution_count": null,
      "outputs": [
        {
          "output_type": "stream",
          "name": "stdout",
          "text": [
            "['New York', 'Los Angeles']\n",
            "Chicago\n",
            "Houston\n"
          ]
        }
      ]
    },
    {
      "cell_type": "markdown",
      "source": [
        "##Q4)Compare and contrast tuples and lists with examples.\n",
        "\n",
        "\n",
        "\n",
        "##Ans- **Comparing and Contrasting Tuples and Lists in Python**\n",
        "\n",
        "\n",
        "\n",
        "Tuples and lists are both sequence data types in Python that store collections of items. However, they differ in several key aspects, including mutability, syntax, and use cases. Below is a comparison of tuples and lists, along with examples to illustrate their differences and similarities.\n",
        "\n",
        "\n",
        "\n",
        "\n",
        "\n",
        "\n",
        "**1.   Mutability**\n",
        "\n",
        "\n",
        "*   **Lists**:Lists are mutable, meaning you can modify them after they are created. You can add, remove, or change elements within a list.\n",
        "\n",
        "\n",
        "\n",
        "**Example:**\n",
        "\n",
        "\n",
        "\n",
        "\n",
        "\n"
      ],
      "metadata": {
        "id": "PKIdR5r1th1m"
      }
    },
    {
      "cell_type": "code",
      "source": [
        "fruits = [\"apple\", \"banana\", \"cherry\"]\n",
        "fruits[1] = \"blueberry\"  # Modifying the second element\n",
        "print(fruits)\n"
      ],
      "metadata": {
        "colab": {
          "base_uri": "https://localhost:8080/"
        },
        "id": "0ooXZE7_vQUY",
        "outputId": "8cb31b5a-935a-4d68-ead9-0d318813ea48"
      },
      "execution_count": null,
      "outputs": [
        {
          "output_type": "stream",
          "name": "stdout",
          "text": [
            "['apple', 'blueberry', 'cherry']\n"
          ]
        }
      ]
    },
    {
      "cell_type": "markdown",
      "source": [
        "*   **Tuples**:Tuples are immutable, meaning once they are created, their elements cannot be changed. This immutability makes tuples suitable for storing data that should not be modified.\n",
        "\n",
        "\n",
        "\n",
        "**Example:**\n",
        "\n"
      ],
      "metadata": {
        "id": "DgwQmZoDvnWl"
      }
    },
    {
      "cell_type": "code",
      "source": [
        "coordinates = (10, 20, 30)\n",
        "# Attempting to modify a tuple will result in an error\n",
        "# coordinates[1] = 25  # This will raise a TypeError\n"
      ],
      "metadata": {
        "id": "5JZGm6hev0gO"
      },
      "execution_count": null,
      "outputs": []
    },
    {
      "cell_type": "markdown",
      "source": [
        "**2.   Syntax**\n",
        "\n",
        "\n",
        "\n",
        "\n",
        "\n",
        "*   **Lists**:Lists are defined using square brackets [ ].\n",
        "\n",
        "\n",
        "**Example:**\n",
        "\n",
        "\n",
        "\n"
      ],
      "metadata": {
        "id": "WVArM0UBv75h"
      }
    },
    {
      "cell_type": "code",
      "source": [
        "my_list = [1, 2, 3, 4]\n"
      ],
      "metadata": {
        "id": "dAjfzSn0wr4s"
      },
      "execution_count": null,
      "outputs": []
    },
    {
      "cell_type": "markdown",
      "source": [
        "*   **Tuples**:Tuples are defined using parentheses ( ).\n",
        "\n",
        "\n",
        "\n",
        "**Example**:\n",
        "\n"
      ],
      "metadata": {
        "id": "q5gW4MEnwv4s"
      }
    },
    {
      "cell_type": "code",
      "source": [
        "my_tuple = (1, 2, 3, 4)\n"
      ],
      "metadata": {
        "id": "tBuhQqajxDNz"
      },
      "execution_count": null,
      "outputs": []
    },
    {
      "cell_type": "markdown",
      "source": [
        "**3.   Use Cases**\n",
        "\n",
        "\n",
        "\n",
        "\n",
        "\n",
        "\n",
        "*   **Lists**:Lists are typically used when you need a collection of items that may need to change over time, such as in scenarios where you need to perform operations like appending, removing, or sorting elements.\n",
        "\n",
        "\n",
        "\n",
        "**Example**:\n",
        "\n",
        "\n",
        "\n"
      ],
      "metadata": {
        "id": "Yz8eeT8JxPTF"
      }
    },
    {
      "cell_type": "code",
      "source": [
        "shopping_list = [\"milk\", \"eggs\", \"bread\"]\n",
        "shopping_list.append(\"butter\")  # Adding an item to the list\n",
        "print(shopping_list)\n"
      ],
      "metadata": {
        "colab": {
          "base_uri": "https://localhost:8080/"
        },
        "id": "AG4O13xQxhgC",
        "outputId": "28f2b3f3-c5f0-4cf0-cf95-048425d294ca"
      },
      "execution_count": null,
      "outputs": [
        {
          "output_type": "stream",
          "name": "stdout",
          "text": [
            "['milk', 'eggs', 'bread', 'butter']\n"
          ]
        }
      ]
    },
    {
      "cell_type": "markdown",
      "source": [
        "*   **Tuples**:Tuples are used when you want to create a fixed collection of items, such as in function returns where multiple values are returned, or to use as dictionary keys where immutability is required.\n",
        "\n",
        "\n",
        "\n",
        "\n",
        "**Example**:\n",
        "\n"
      ],
      "metadata": {
        "id": "VZlJqXmrx_bt"
      }
    },
    {
      "cell_type": "code",
      "source": [
        "person = (\"John\", 25, \"Engineer\")\n"
      ],
      "metadata": {
        "id": "0kiUl3qkyIbA"
      },
      "execution_count": null,
      "outputs": []
    },
    {
      "cell_type": "markdown",
      "source": [
        "**4.   Performance**\n",
        "\n",
        "\n",
        "\n",
        "\n",
        "\n",
        "\n",
        "\n",
        "*   **Lists**:Lists are slightly slower than tuples when performing certain operations because they are mutable and thus require additional memory and processing overhead to handle changes.\n",
        "\n",
        "\n",
        "\n",
        "**Example**:\n",
        "\n",
        "\n",
        "\n"
      ],
      "metadata": {
        "id": "_cu0aFdvyLwy"
      }
    },
    {
      "cell_type": "code",
      "source": [
        "list_example = [1, 2, 3, 4, 5]\n"
      ],
      "metadata": {
        "id": "FcgVq_4Ayei5"
      },
      "execution_count": null,
      "outputs": []
    },
    {
      "cell_type": "markdown",
      "source": [
        "*   **Tuples**: Tuples are generally faster than lists, particularly in scenarios where the data does not change. This performance advantage comes from their immutability.\n",
        "\n",
        "\n",
        "\n",
        "**Example**:\n",
        "\n"
      ],
      "metadata": {
        "id": "3uza_fv6ylnh"
      }
    },
    {
      "cell_type": "code",
      "source": [
        "tuple_example = (1, 2, 3, 4, 5)\n"
      ],
      "metadata": {
        "id": "LmK8uQbayw4X"
      },
      "execution_count": null,
      "outputs": []
    },
    {
      "cell_type": "markdown",
      "source": [
        "**5.   Methods**\n",
        "\n",
        "\n",
        "\n",
        "\n",
        "\n",
        "\n",
        "\n",
        "*   **Lists**:Lists have a variety of methods available for modifying the content, such as **append()**, **remove()**, **pop()**, **sort()**, and more.\n",
        "\n",
        "\n",
        "\n",
        "**Example**:\n",
        "\n",
        "\n"
      ],
      "metadata": {
        "id": "4d7eeOvcy0Ha"
      }
    },
    {
      "cell_type": "code",
      "source": [
        "colors = [\"red\", \"green\", \"blue\"]\n",
        "colors.sort()\n",
        "print(colors)\n"
      ],
      "metadata": {
        "colab": {
          "base_uri": "https://localhost:8080/"
        },
        "id": "XOq4nU1-zITp",
        "outputId": "8e12da11-7447-473f-9f6b-21a424b04d1a"
      },
      "execution_count": null,
      "outputs": [
        {
          "output_type": "stream",
          "name": "stdout",
          "text": [
            "['blue', 'green', 'red']\n"
          ]
        }
      ]
    },
    {
      "cell_type": "markdown",
      "source": [
        "*   **Tuples**:Tuples have very few methods available because they are immutable. The main methods are **count()** and **index()**, which are used to count occurrences of a value and find the index of a value, respectively.\n",
        "\n",
        "\n",
        "\n",
        "\n",
        "**Example**:\n",
        "\n"
      ],
      "metadata": {
        "id": "6NDg-eChzRv0"
      }
    },
    {
      "cell_type": "code",
      "source": [
        "nums = (1, 2, 2, 3)\n",
        "print(nums.count(2))\n",
        "print(nums.index(3))\n"
      ],
      "metadata": {
        "colab": {
          "base_uri": "https://localhost:8080/"
        },
        "id": "yGDNL9zuzfi7",
        "outputId": "a7111d94-65e9-4cf4-9171-2637961e2636"
      },
      "execution_count": null,
      "outputs": [
        {
          "output_type": "stream",
          "name": "stdout",
          "text": [
            "2\n",
            "3\n"
          ]
        }
      ]
    },
    {
      "cell_type": "markdown",
      "source": [
        "**6.   Immutability and Hashability**\n",
        "\n",
        "\n",
        "\n",
        "\n",
        "\n",
        "\n",
        "\n",
        "*   **Lists**:Since lists are mutable, they cannot be used as keys in dictionaries or added to sets because their contents can change, which would violate the requirements for a hashable type.\n",
        "\n",
        "\n",
        "\n",
        "**Example**:\n",
        "\n",
        "\n",
        "\n"
      ],
      "metadata": {
        "id": "H2q5V7ijznnm"
      }
    },
    {
      "cell_type": "code",
      "source": [
        "# Attempting to use a list as a dictionary key will raise an error\n",
        "# my_dict = {[1, 2, 3]: \"value\"}  # This will raise a TypeError\n"
      ],
      "metadata": {
        "id": "gSPBjPvez38c"
      },
      "execution_count": null,
      "outputs": []
    },
    {
      "cell_type": "markdown",
      "source": [
        "*   **Tuples**:Tuples are immutable and therefore hashable, which allows them to be used as keys in dictionaries or elements in sets.\n",
        "\n",
        "\n",
        "\n",
        "\n",
        "**Example**:\n",
        "\n"
      ],
      "metadata": {
        "id": "NTKABksP0BXC"
      }
    },
    {
      "cell_type": "code",
      "source": [
        "my_dict = {(1, 2, 3): \"value\"}\n",
        "print(my_dict[(1, 2, 3)])\n"
      ],
      "metadata": {
        "colab": {
          "base_uri": "https://localhost:8080/"
        },
        "id": "HO4-gLFE0KaO",
        "outputId": "1c36be85-d0f5-4090-970a-5ad68b6ef213"
      },
      "execution_count": null,
      "outputs": [
        {
          "output_type": "stream",
          "name": "stdout",
          "text": [
            "value\n"
          ]
        }
      ]
    },
    {
      "cell_type": "markdown",
      "source": [
        "##Q5)Describe the key features of sets and provide examples of their use.\n",
        "\n",
        "\n",
        "\n",
        "##Ans- **Key Features of Sets in Python**\n",
        "\n",
        "\n",
        "\n",
        "Sets are a built-in data structure in Python that are used to store an unordered collection of unique elements. They are highly efficient for operations like membership testing, removing duplicates from a list, and performing mathematical operations such as union, intersection, and difference.\n",
        "\n",
        "\n",
        "\n",
        "\n",
        "\n",
        "\n",
        "**1.   Unordered Collection**\n",
        "\n",
        "\n",
        "\n",
        "\n",
        "\n",
        "\n",
        "*   **Defination**:Sets are unordered, meaning the elements in a set do not have a specific order or index. You cannot access elements in a set by an index like you can with lists or tuples.\n",
        "\n",
        "\n",
        "\n",
        "\n",
        "\n",
        "*   **Example**:\n",
        "\n",
        "\n",
        "\n",
        "\n",
        "\n"
      ],
      "metadata": {
        "id": "KE3TYa4B0_UQ"
      }
    },
    {
      "cell_type": "code",
      "source": [
        "my_set = {3, 1, 4, 2}\n",
        "print(my_set)\n"
      ],
      "metadata": {
        "colab": {
          "base_uri": "https://localhost:8080/"
        },
        "id": "kfJLdgxb1l_D",
        "outputId": "6f6a9547-6101-4291-9e2c-8faf9bb8e046"
      },
      "execution_count": null,
      "outputs": [
        {
          "output_type": "stream",
          "name": "stdout",
          "text": [
            "{1, 2, 3, 4}\n"
          ]
        }
      ]
    },
    {
      "cell_type": "markdown",
      "source": [
        "**2.   Unique Elements**\n",
        "\n",
        "\n",
        "\n",
        "\n",
        "\n",
        "\n",
        "*   **Defination**:Sets automatically eliminate duplicate values. If you try to add a duplicate element to a set, it will be ignored.\n",
        "\n",
        "\n",
        "\n",
        "**Example**:\n",
        "\n",
        "\n"
      ],
      "metadata": {
        "id": "4PNvYLZM1zfq"
      }
    },
    {
      "cell_type": "code",
      "source": [
        "numbers = {1, 2, 2, 3, 4, 4, 5}\n",
        "print(numbers)\n"
      ],
      "metadata": {
        "colab": {
          "base_uri": "https://localhost:8080/"
        },
        "id": "Tu9mFEHS3EG7",
        "outputId": "21ff8dbb-34ca-43b9-fd3f-3bf8f39f5653"
      },
      "execution_count": null,
      "outputs": [
        {
          "output_type": "stream",
          "name": "stdout",
          "text": [
            "{1, 2, 3, 4, 5}\n"
          ]
        }
      ]
    },
    {
      "cell_type": "markdown",
      "source": [
        "**3.   Mutable Data Structure**\n",
        "\n",
        "\n",
        "\n",
        "*   **Defination**:Sets are mutable, meaning you can add or remove elements after the set is created. However, the elements themselves must be immutable (e.g., strings, numbers, or tuples).\n",
        "\n",
        "\n",
        "\n",
        "*   **Example**:\n",
        "\n",
        "\n",
        "\n"
      ],
      "metadata": {
        "id": "XcM4aghU3NUy"
      }
    },
    {
      "cell_type": "code",
      "source": [
        "colors = {\"red\", \"green\", \"blue\"}\n",
        "colors.add(\"yellow\")  # Adding an element\n",
        "print(colors)\n",
        "\n",
        "colors.remove(\"green\")  # Removing an element\n",
        "print(colors)\n"
      ],
      "metadata": {
        "colab": {
          "base_uri": "https://localhost:8080/"
        },
        "id": "_10Mmfyk3bqN",
        "outputId": "e3358930-c7bc-4a30-e73c-6468380b88d2"
      },
      "execution_count": null,
      "outputs": [
        {
          "output_type": "stream",
          "name": "stdout",
          "text": [
            "{'red', 'blue', 'yellow', 'green'}\n",
            "{'red', 'blue', 'yellow'}\n"
          ]
        }
      ]
    },
    {
      "cell_type": "markdown",
      "source": [
        "**4.   No Duplicates Allowed**\n",
        "\n",
        "\n",
        "\n",
        "\n",
        "\n",
        "\n",
        "*   **Defination**:Since sets cannot contain duplicate elements, they are particularly useful for removing duplicates from a list or other iterable.\n",
        "\n",
        "\n",
        "\n",
        "*   **Example**:\n",
        "\n",
        "\n",
        "\n"
      ],
      "metadata": {
        "id": "aXRKQplL32VR"
      }
    },
    {
      "cell_type": "code",
      "source": [
        "fruits = [\"apple\", \"banana\", \"apple\", \"orange\", \"banana\"]\n",
        "unique_fruits = set(fruits)\n",
        "print(unique_fruits)\n"
      ],
      "metadata": {
        "colab": {
          "base_uri": "https://localhost:8080/"
        },
        "id": "3vymXlmR4Jhz",
        "outputId": "90481fc5-7ac9-46e7-a0b7-52cd3c612589"
      },
      "execution_count": null,
      "outputs": [
        {
          "output_type": "stream",
          "name": "stdout",
          "text": [
            "{'banana', 'orange', 'apple'}\n"
          ]
        }
      ]
    },
    {
      "cell_type": "markdown",
      "source": [
        "**5.   Efficient Membership Testing**\n",
        "\n",
        "\n",
        "\n",
        "\n",
        "\n",
        "\n",
        "\n",
        "*   **Defination**:Sets provide fast membership testing, making it efficient to check whether an element is part of the set.\n",
        "\n",
        "\n",
        "\n",
        "\n",
        "\n",
        "*   **Example**:\n",
        "\n",
        "\n",
        "\n",
        "\n"
      ],
      "metadata": {
        "id": "QaQcuMjo4Rc1"
      }
    },
    {
      "cell_type": "code",
      "source": [
        "vowels = {\"a\", \"e\", \"i\", \"o\", \"u\"}\n",
        "print(\"a\" in vowels)\n",
        "print(\"b\" in vowels)\n"
      ],
      "metadata": {
        "colab": {
          "base_uri": "https://localhost:8080/"
        },
        "id": "o09UnoMI4s8O",
        "outputId": "34a9a375-6eaf-4503-a950-998de5f3b507"
      },
      "execution_count": null,
      "outputs": [
        {
          "output_type": "stream",
          "name": "stdout",
          "text": [
            "True\n",
            "False\n"
          ]
        }
      ]
    },
    {
      "cell_type": "markdown",
      "source": [
        "**6.   Mathematical Set Operations**\n",
        "\n",
        "\n",
        "\n",
        "\n",
        "\n",
        "\n",
        "\n",
        "\n",
        "*   **Defination**:Sets support a variety of mathematical operations, such as union, intersection, difference, and symmetric difference. These operations are useful for comparing datasets.\n",
        "\n",
        "\n",
        "\n",
        "\n",
        "\n",
        "\n",
        "*   **Union**: Combines all elements from two sets.\n",
        "\n",
        "*   **Intersection:** Returns only the elements common to both sets.\n",
        "\n",
        "*   **Difference:** Returns elements present in the first set but not in the second.\n",
        "\n",
        "*   **Symmetric Difference:**  Returns elements present in either of the sets but not in both.\n",
        "\n",
        "\n",
        "\n",
        "\n",
        "\n",
        "*   **Example**:\n",
        "\n",
        "\n",
        "\n",
        "\n",
        "\n",
        "\n",
        "\n",
        "\n",
        "\n"
      ],
      "metadata": {
        "id": "lyvpETfg4zDp"
      }
    },
    {
      "cell_type": "code",
      "source": [
        "set_a = {1, 2, 3, 4}\n",
        "set_b = {3, 4, 5, 6}\n",
        "\n",
        "# Union\n",
        "print(set_a | set_b)\n",
        "\n",
        "# Intersection\n",
        "print(set_a & set_b)\n",
        "\n",
        "# Difference\n",
        "print(set_a - set_b)\n",
        "\n",
        "# Symmetric Difference\n",
        "print(set_a ^ set_b)\n"
      ],
      "metadata": {
        "colab": {
          "base_uri": "https://localhost:8080/"
        },
        "id": "7jQEFx3H59C6",
        "outputId": "a908af84-bc39-45ca-e621-3e2af56a4577"
      },
      "execution_count": null,
      "outputs": [
        {
          "output_type": "stream",
          "name": "stdout",
          "text": [
            "{1, 2, 3, 4, 5, 6}\n",
            "{3, 4}\n",
            "{1, 2}\n",
            "{1, 2, 5, 6}\n"
          ]
        }
      ]
    },
    {
      "cell_type": "markdown",
      "source": [
        "**7.   Immutability of Set Elements**\n",
        "\n",
        "\n",
        "\n",
        "\n",
        "\n",
        "*   **Defination**: While sets themselves are mutable, the elements within a set must be immutable. This means you cannot have lists or other sets as elements within a set, but you can have tuples or strings.\n",
        "\n",
        "*   **Example**:\n",
        "\n",
        "\n",
        "\n",
        "\n",
        "\n"
      ],
      "metadata": {
        "id": "wjqsnkq36NMR"
      }
    },
    {
      "cell_type": "code",
      "source": [
        "valid_set = {1, 2, (3, 4)}\n",
        "# invalid_set = {1, 2, [3, 4]}  # This will raise a TypeError\n"
      ],
      "metadata": {
        "id": "OFLnFVFO6lpb"
      },
      "execution_count": null,
      "outputs": []
    },
    {
      "cell_type": "markdown",
      "source": [
        "**8.   Set Comprehensions**\n",
        "\n",
        "\n",
        "\n",
        "\n",
        "\n",
        "*   **Defination**: Similar to list comprehensions, Python allows for set comprehensions, enabling you to construct sets using an expression and a loop.\n",
        "\n",
        "\n",
        "\n",
        "*   **Example**:\n",
        "\n",
        "\n"
      ],
      "metadata": {
        "id": "Uv_-XKyJ6sWn"
      }
    },
    {
      "cell_type": "code",
      "source": [
        "squared_numbers = {x**2 for x in range(5)}\n",
        "print(squared_numbers)\n"
      ],
      "metadata": {
        "colab": {
          "base_uri": "https://localhost:8080/"
        },
        "id": "ro_i1dIV7IaZ",
        "outputId": "397c26aa-3a4b-4121-bcfa-226d9329c767"
      },
      "execution_count": null,
      "outputs": [
        {
          "output_type": "stream",
          "name": "stdout",
          "text": [
            "{0, 1, 4, 9, 16}\n"
          ]
        }
      ]
    },
    {
      "cell_type": "markdown",
      "source": [
        "**9.   Use Cases of Sets**\n",
        "\n",
        "\n",
        "*   **Removing Duplicates:** Quickly remove duplicates from a list or other iterable.\n",
        "\n",
        "\n",
        "\n"
      ],
      "metadata": {
        "id": "5Z2XKngz7Luc"
      }
    },
    {
      "cell_type": "code",
      "source": [
        "numbers = [1, 2, 2, 3, 4, 4, 5]\n",
        "unique_numbers = list(set(numbers))\n",
        "print(unique_numbers)\n"
      ],
      "metadata": {
        "colab": {
          "base_uri": "https://localhost:8080/"
        },
        "id": "ZmRRdgGq7i2-",
        "outputId": "b177efbc-26a3-46a8-c3b2-00cc4f82f8e1"
      },
      "execution_count": null,
      "outputs": [
        {
          "output_type": "stream",
          "name": "stdout",
          "text": [
            "[1, 2, 3, 4, 5]\n"
          ]
        }
      ]
    },
    {
      "cell_type": "markdown",
      "source": [
        "*   **Membership Testing:** Efficiently check whether an element is in a collection, such as in the context of filtering or conditional logic.\n",
        "\n"
      ],
      "metadata": {
        "id": "HtOKhVII7nBI"
      }
    },
    {
      "cell_type": "code",
      "source": [
        "blacklist = {\"bad_user\", \"spam_account\"}\n",
        "user = \"bad_user\"\n",
        "if user in blacklist:\n",
        "    print(\"Access denied!\")\n"
      ],
      "metadata": {
        "colab": {
          "base_uri": "https://localhost:8080/"
        },
        "id": "ddgXkrxR7zSj",
        "outputId": "48a9e59e-3898-4fa2-8692-6725a252455a"
      },
      "execution_count": null,
      "outputs": [
        {
          "output_type": "stream",
          "name": "stdout",
          "text": [
            "Access denied!\n"
          ]
        }
      ]
    },
    {
      "cell_type": "markdown",
      "source": [
        "*   **Mathematical Operations:** Compare datasets, such as finding common items between two lists or determining items exclusive to one list.\n",
        "\n",
        "\n",
        "\n"
      ],
      "metadata": {
        "id": "YtySHZWJ76gk"
      }
    },
    {
      "cell_type": "code",
      "source": [
        "attendees_day1 = {\"Alice\", \"Bob\", \"Charlie\"}\n",
        "attendees_day2 = {\"Bob\", \"Charlie\", \"David\"}\n",
        "common_attendees = attendees_day1 & attendees_day2\n",
        "print(common_attendees)\n"
      ],
      "metadata": {
        "colab": {
          "base_uri": "https://localhost:8080/"
        },
        "id": "-T8LK5fQ8D2g",
        "outputId": "56693c98-8a61-415f-9c72-a11788096d73"
      },
      "execution_count": null,
      "outputs": [
        {
          "output_type": "stream",
          "name": "stdout",
          "text": [
            "{'Charlie', 'Bob'}\n"
          ]
        }
      ]
    },
    {
      "cell_type": "markdown",
      "source": [
        "##Q6)Discuss the use cases of tuples and sets in Python programming.\n",
        "\n",
        "\n",
        "\n",
        "\n",
        "\n",
        "\n",
        "##Ans-**Use Cases of Tuples in Python**\n",
        "\n",
        "\n",
        "\n",
        "\n",
        "Tuples are immutable sequences that are often used in Python programming when the collection of items should not be changed after creation. Below are some common use cases of tuples:\n",
        "\n",
        "\n",
        "\n",
        "\n",
        "#1.   **Returning Multiple Values from a Function**\n",
        "\n",
        "\n",
        "*   **Defination**:Functions in Python can return multiple values as a tuple. This is a convenient way to return multiple pieces of related information without having to create a custom class or use a list.\n",
        "\n",
        "\n",
        "\n",
        "*   **Example**:\n",
        "\n",
        "\n",
        "\n"
      ],
      "metadata": {
        "id": "FGnxyxtg8r7s"
      }
    },
    {
      "cell_type": "code",
      "source": [
        "def get_coordinates():\n",
        "    return (10, 20, 30)\n",
        "\n",
        "x, y, z = get_coordinates()\n",
        "print(x, y, z)\n"
      ],
      "metadata": {
        "colab": {
          "base_uri": "https://localhost:8080/"
        },
        "id": "RRr8orOv9Z24",
        "outputId": "34665b4f-c1fc-4023-ac77-85e787540b2e"
      },
      "execution_count": null,
      "outputs": [
        {
          "output_type": "stream",
          "name": "stdout",
          "text": [
            "10 20 30\n"
          ]
        }
      ]
    },
    {
      "cell_type": "markdown",
      "source": [
        "#**2.   Using Tuples as Dictionary Keys**\n",
        "\n",
        "\n",
        "*   **Defination**:Since tuples are immutable and hashable, they can be used as keys in dictionaries. This is useful when you need a composite key, such as combining multiple elements to form a unique identifier.\n",
        "\n",
        "\n",
        "\n",
        "*   **Example**:\n",
        "\n",
        "\n",
        "\n"
      ],
      "metadata": {
        "id": "LTiXI3P49l-J"
      }
    },
    {
      "cell_type": "code",
      "source": [
        "locations = {\n",
        "    (40.7128, -74.0060): \"New York\",\n",
        "    (34.0522, -118.2437): \"Los Angeles\"\n",
        "}\n",
        "print(locations[(40.7128, -74.0060)])\n"
      ],
      "metadata": {
        "colab": {
          "base_uri": "https://localhost:8080/"
        },
        "id": "SBJ8tEbg96Iu",
        "outputId": "e2a91f1e-9871-466c-99a1-22d2ab1c14b6"
      },
      "execution_count": null,
      "outputs": [
        {
          "output_type": "stream",
          "name": "stdout",
          "text": [
            "New York\n"
          ]
        }
      ]
    },
    {
      "cell_type": "markdown",
      "source": [
        "#**3.   Storing Fixed Data**\n",
        "\n",
        "\n",
        "*   **Defination**:Tuples are ideal for storing data that is logically related and should remain unchanged. For instance, you might use a tuple to store the dimensions of a rectangle (width, height) or the RGB values of a color.\n",
        "\n",
        "*   **Example**:\n",
        "\n",
        "\n",
        "\n"
      ],
      "metadata": {
        "id": "xqz-kG8t-DOj"
      }
    },
    {
      "cell_type": "code",
      "source": [
        "dimensions = (1920, 1080)  # Width and height of a screen\n",
        "color = (255, 0, 0)  # RGB values for red\n",
        "print(color)"
      ],
      "metadata": {
        "id": "NcDRiFOr-U46",
        "colab": {
          "base_uri": "https://localhost:8080/"
        },
        "outputId": "b5dcbe54-1881-42bd-e658-e453fdf03e6d"
      },
      "execution_count": 8,
      "outputs": [
        {
          "output_type": "stream",
          "name": "stdout",
          "text": [
            "(255, 0, 0)\n"
          ]
        }
      ]
    },
    {
      "cell_type": "markdown",
      "source": [
        "#**4.   Unpacking**:\n",
        "\n",
        "\n",
        "*   **Defination**:Tuples support unpacking, which allows you to assign values to multiple variables simultaneously. This is particularly useful in loops or when working with functions that return multiple values.\n",
        "\n",
        "*   **Example**:\n",
        "\n",
        "\n",
        "\n"
      ],
      "metadata": {
        "id": "VkX-nJEL-cSN"
      }
    },
    {
      "cell_type": "code",
      "source": [
        "point = (4, 5)\n",
        "x, y = point\n",
        "print(x, y)\n"
      ],
      "metadata": {
        "colab": {
          "base_uri": "https://localhost:8080/"
        },
        "id": "meaMPRfy-t3z",
        "outputId": "e2d49591-6e9a-4293-b0b5-0692196d0519"
      },
      "execution_count": null,
      "outputs": [
        {
          "output_type": "stream",
          "name": "stdout",
          "text": [
            "4 5\n"
          ]
        }
      ]
    },
    {
      "cell_type": "markdown",
      "source": [
        "#**5.   Ensuring Data Integrity**\n",
        "\n",
        "\n",
        "*   **Defination**:In situations where you want to ensure that the data cannot be modified, using a tuple is preferable over a list. This is common in cases where the data is passed between functions or modules that should not alter it.\n",
        "\n",
        "\n",
        "\n",
        "*   **Example**:\n",
        "\n",
        "\n",
        "\n"
      ],
      "metadata": {
        "id": "bGPZyPCC-5Yx"
      }
    },
    {
      "cell_type": "code",
      "source": [
        "user_data = (\"Alice\", 25, \"Engineer\")\n",
        "# user_data[1] = 26  # This would raise an error as tuples are immutable\n"
      ],
      "metadata": {
        "id": "n1IfbEqc_s1D"
      },
      "execution_count": 5,
      "outputs": []
    },
    {
      "cell_type": "markdown",
      "source": [
        "**Use Cases of Sets in Python**\n",
        "\n",
        "\n",
        "\n",
        "Sets are unordered collections of unique elements, making them ideal for operations where the uniqueness of elements is crucial. Below are some common use cases of sets:\n",
        "\n",
        "\n",
        "\n",
        "\n",
        "\n",
        "\n",
        "\n",
        "#1.   **Removing Duplicates from a Collection**\n",
        "\n",
        "\n",
        "\n",
        "\n",
        "\n",
        "*   **Defination**:One of the primary uses of sets is to remove duplicate elements from a list or other iterable. Since sets inherently do not allow duplicate values, they can be used to filter out repeated items.\n",
        "\n",
        "\n",
        "\n",
        "*   **Example**:\n",
        "\n",
        "\n",
        "\n",
        "\n",
        "\n"
      ],
      "metadata": {
        "id": "uSLRSqLN_x-f"
      }
    },
    {
      "cell_type": "code",
      "source": [
        "numbers = [1, 2, 2, 3, 4, 4, 5]\n",
        "unique_numbers = set(numbers)\n",
        "print(unique_numbers)\n"
      ],
      "metadata": {
        "colab": {
          "base_uri": "https://localhost:8080/"
        },
        "id": "jT55dWI2AV2o",
        "outputId": "5eefea95-0a26-460a-a3c1-07f9d6e3604b"
      },
      "execution_count": null,
      "outputs": [
        {
          "output_type": "stream",
          "name": "stdout",
          "text": [
            "{1, 2, 3, 4, 5}\n"
          ]
        }
      ]
    },
    {
      "cell_type": "markdown",
      "source": [
        "#2.   **Efficient Membership Testing**\n",
        "\n",
        "\n",
        "\n",
        "\n",
        "\n",
        "\n",
        "*   **Defination**:Sets provide a highly efficient way to test whether an element is part of a collection. This is faster than using lists, especially for large datasets.\n",
        "\n",
        "\n",
        "\n",
        "*   **Example**:\n",
        "\n",
        "\n",
        "\n"
      ],
      "metadata": {
        "id": "urWnOztRAaGP"
      }
    },
    {
      "cell_type": "code",
      "source": [
        "vowels = {\"a\", \"e\", \"i\", \"o\", \"u\"}\n",
        "print(\"a\" in vowels)\n",
        "print(\"b\" in vowels)\n"
      ],
      "metadata": {
        "colab": {
          "base_uri": "https://localhost:8080/"
        },
        "id": "PwXBTmjiAzRx",
        "outputId": "8953e14c-2734-402b-d511-e4301ecad12c"
      },
      "execution_count": null,
      "outputs": [
        {
          "output_type": "stream",
          "name": "stdout",
          "text": [
            "True\n",
            "False\n"
          ]
        }
      ]
    },
    {
      "cell_type": "markdown",
      "source": [
        "#3.   **Mathematical Set Operations**\n",
        "\n",
        "\n",
        "\n",
        "\n",
        "\n",
        "*   **Defination**:Sets are ideal for performing mathematical operations like union, intersection, difference, and symmetric difference. These operations are useful in scenarios like comparing datasets, filtering data, or combining unique items.\n",
        "\n",
        "\n",
        "\n",
        "*   **Example**:\n",
        "\n",
        "\n",
        "\n"
      ],
      "metadata": {
        "id": "Hytt_TOaA4Je"
      }
    },
    {
      "cell_type": "code",
      "source": [
        "set_a = {1, 2, 3, 4}\n",
        "set_b = {3, 4, 5, 6}\n",
        "\n",
        "union = set_a | set_b  # Union of set_a and set_b\n",
        "intersection = set_a & set_b  # Intersection of set_a and set_b\n",
        "difference = set_a - set_b  # Difference between set_a and set_b\n",
        "\n",
        "print(union)\n",
        "print(intersection)\n",
        "print(difference)\n"
      ],
      "metadata": {
        "colab": {
          "base_uri": "https://localhost:8080/"
        },
        "id": "KUq_O1PwBLG0",
        "outputId": "4d68d32b-90bb-489f-a565-c220f4a50cf6"
      },
      "execution_count": 4,
      "outputs": [
        {
          "output_type": "stream",
          "name": "stdout",
          "text": [
            "{1, 2, 3, 4, 5, 6}\n",
            "{3, 4}\n",
            "{1, 2}\n"
          ]
        }
      ]
    },
    {
      "cell_type": "markdown",
      "source": [
        "#4.   **Finding Unique Elements Across Multiple Collections**\n",
        "\n",
        "\n",
        "\n",
        "\n",
        "\n",
        "\n",
        "*   **Defination**:Sets can be used to find unique elements across multiple lists or other collections. This is particularly useful in scenarios like merging datasets or filtering out common elements.\n",
        "\n",
        "\n",
        "\n",
        "*   **Example**:\n",
        "\n",
        "\n",
        "\n"
      ],
      "metadata": {
        "id": "nH-3_IcFBVlY"
      }
    },
    {
      "cell_type": "code",
      "source": [
        "list1 = [1, 2, 3]\n",
        "list2 = [2, 3, 4]\n",
        "\n",
        "unique_elements = set(list1) ^ set(list2)  # Symmetric difference\n",
        "print(unique_elements)\n"
      ],
      "metadata": {
        "colab": {
          "base_uri": "https://localhost:8080/"
        },
        "id": "JRcNAb3ZBnPp",
        "outputId": "d28e62ea-76f2-4357-f6b4-9f1dcdd8ab93"
      },
      "execution_count": 9,
      "outputs": [
        {
          "output_type": "stream",
          "name": "stdout",
          "text": [
            "{1, 4}\n"
          ]
        }
      ]
    },
    {
      "cell_type": "markdown",
      "source": [
        "#5.   **Using Sets in Conditional Logic**\n",
        "\n",
        "\n",
        "\n",
        "\n",
        "\n",
        "\n",
        "\n",
        "*   **Defination**:Sets can simplify conditional logic by grouping elements into categories. For instance, you might use a set to represent a category of items and check if a specific item belongs to that category.\n",
        "\n",
        "\n",
        "*   **Example**:\n",
        "\n",
        "\n",
        "\n"
      ],
      "metadata": {
        "id": "LNzeADrVBxQS"
      }
    },
    {
      "cell_type": "code",
      "source": [
        "prime_numbers = {2, 3, 5, 7}\n",
        "number = 5\n",
        "\n",
        "if number in prime_numbers:\n",
        "    print(f\"{number} is a prime number.\")\n",
        "else:\n",
        "    print(f\"{number} is not a prime number.\")\n"
      ],
      "metadata": {
        "id": "xX6nL5LcCBDA",
        "outputId": "b3a29b21-6e96-45c9-e0ea-a00aebfcdc14",
        "colab": {
          "base_uri": "https://localhost:8080/"
        }
      },
      "execution_count": null,
      "outputs": [
        {
          "output_type": "stream",
          "name": "stdout",
          "text": [
            "5 is a prime number.\n"
          ]
        }
      ]
    },
    {
      "cell_type": "markdown",
      "source": [
        "##Q7)Describe how to add, modify, and delete items in a dictionary with examples.\n",
        "\n",
        "\n",
        "\n",
        "##Ans- **Working with Dictionaries in Python: Adding, Modifying, and Deleting Items**\n",
        "\n",
        "\n",
        "\n",
        "\n",
        "Dictionaries in Python are unordered collections of key-value pairs, where each key is unique. They are mutable, meaning you can add, modify, or delete items after the dictionary is created. Below, we'll explore how to perform these operations with examples.\n",
        "\n",
        "\n",
        "\n",
        "\n",
        "\n",
        "\n",
        "#1.   **Adding Items to a Dictionary**\n",
        "\n",
        "\n",
        "You can add items to a dictionary by assigning a value to a new key. If the key already exists, its value will be updated.\n",
        "\n",
        "\n",
        "\n",
        "\n",
        "\n",
        "*  **Example:**  Adding a New Key-Value Pair\n",
        "\n",
        "\n",
        "\n",
        "\n",
        "\n"
      ],
      "metadata": {
        "id": "X2xkemuLcNcV"
      }
    },
    {
      "cell_type": "code",
      "source": [
        "student_grades = {\"Alice\": 85, \"Bob\": 90}\n",
        "student_grades[\"Charlie\"] = 88  # Adding a new student and their grade\n",
        "print(student_grades)\n"
      ],
      "metadata": {
        "colab": {
          "base_uri": "https://localhost:8080/"
        },
        "id": "ZLnRrSAiddej",
        "outputId": "db16a788-25f0-4054-afd5-a575c51588b2"
      },
      "execution_count": null,
      "outputs": [
        {
          "output_type": "stream",
          "name": "stdout",
          "text": [
            "{'Alice': 85, 'Bob': 90, 'Charlie': 88}\n"
          ]
        }
      ]
    },
    {
      "cell_type": "markdown",
      "source": [
        "*   **Example:** Adding Multiple Items at Once\n",
        "\n"
      ],
      "metadata": {
        "id": "xl9BrZztdkW1"
      }
    },
    {
      "cell_type": "code",
      "source": [
        "student_grades.update({\"David\": 92, \"Eva\": 87})\n",
        "print(student_grades)\n"
      ],
      "metadata": {
        "colab": {
          "base_uri": "https://localhost:8080/"
        },
        "id": "XvMPvvm6dtdD",
        "outputId": "4d53750d-e45e-4b99-ccae-6cb648a7c346"
      },
      "execution_count": null,
      "outputs": [
        {
          "output_type": "stream",
          "name": "stdout",
          "text": [
            "{'Alice': 85, 'Bob': 90, 'Charlie': 88, 'David': 92, 'Eva': 87}\n"
          ]
        }
      ]
    },
    {
      "cell_type": "markdown",
      "source": [
        "#2.   **Modifying Items in a Dictionary**\n",
        "\n",
        "\n",
        "To modify an existing item in a dictionary, you simply reassign a new value to the existing key.\n",
        "\n",
        "\n",
        "\n",
        "\n",
        "*   **Example:** Modifying an Existing Value\n",
        "\n",
        "\n"
      ],
      "metadata": {
        "id": "fxzYIQfud0rM"
      }
    },
    {
      "cell_type": "code",
      "source": [
        "student_grades[\"Alice\"] = 95  # Updating Alice's grade\n",
        "print(student_grades)\n"
      ],
      "metadata": {
        "colab": {
          "base_uri": "https://localhost:8080/"
        },
        "id": "DKjFmnENeWhl",
        "outputId": "98818299-77a3-470c-ebb7-18c335e8be9a"
      },
      "execution_count": null,
      "outputs": [
        {
          "output_type": "stream",
          "name": "stdout",
          "text": [
            "{'Alice': 95, 'Bob': 90, 'Charlie': 88, 'David': 92, 'Eva': 87}\n"
          ]
        }
      ]
    },
    {
      "cell_type": "markdown",
      "source": [
        "*   **Example:**\n",
        "\n"
      ],
      "metadata": {
        "id": "Ck2rrwWmemH2"
      }
    },
    {
      "cell_type": "code",
      "source": [
        "student_grades.update({\"Bob\": 93, \"Charlie\": 89})\n",
        "print(student_grades)\n"
      ],
      "metadata": {
        "colab": {
          "base_uri": "https://localhost:8080/"
        },
        "id": "7bH1RG3DerJc",
        "outputId": "50551658-5e0b-4bf0-b5a1-ad75fbb7e8ea"
      },
      "execution_count": null,
      "outputs": [
        {
          "output_type": "stream",
          "name": "stdout",
          "text": [
            "{'Bob': 93, 'Charlie': 89}\n"
          ]
        }
      ]
    },
    {
      "cell_type": "markdown",
      "source": [
        "#3.  **Deleting Items from a Dictionary**\n",
        "\n",
        "\n",
        "\n",
        "There are several methods to delete items from a dictionary:\n",
        "\n",
        "\n",
        "\n",
        "\n",
        "\n",
        "\n",
        "*   Using the **del** Statement: Removes the key-value pair from the dictionary.\n",
        "*   **Example:**\n",
        "\n",
        "\n",
        "\n"
      ],
      "metadata": {
        "id": "xi6F-hIdfVqr"
      }
    },
    {
      "cell_type": "code",
      "source": [
        "# Existing dictionary\n",
        "student_grades = {'Alice': 85, 'Bob': 95}\n",
        "\n",
        "# Delete Alice's grade\n",
        "del student_grades['Alice']\n",
        "\n",
        "# Print the dictionary after deletion\n",
        "print(student_grades)\n"
      ],
      "metadata": {
        "colab": {
          "base_uri": "https://localhost:8080/"
        },
        "id": "y1aZu40yfs27",
        "outputId": "a3e4f59e-7096-4674-81f9-1f011fe1a86f"
      },
      "execution_count": null,
      "outputs": [
        {
          "output_type": "stream",
          "name": "stdout",
          "text": [
            "{'Bob': 95}\n"
          ]
        }
      ]
    },
    {
      "cell_type": "markdown",
      "source": [
        "\n",
        "\n",
        "*   **Using the pop( ) Method:** Removes the key-value pair and returns the value. If the key does not exist, an error is raised unless a default value is provided.\n",
        "\n",
        "\n",
        "*   **Example**:\n",
        "\n"
      ],
      "metadata": {
        "id": "TwZ7vNRDfxvC"
      }
    },
    {
      "cell_type": "code",
      "source": [
        "# Existing dictionary\n",
        "student_grades = {'Alice': 85, 'Bob': 95}\n",
        "\n",
        "# Delete Bob's grade using pop\n",
        "removed_grade = student_grades.pop('Bob')\n",
        "\n",
        "# Print the dictionary after deletion and the removed grade\n",
        "print(student_grades)\n",
        "print(\"Removed grade:\", removed_grade)\n",
        "\n"
      ],
      "metadata": {
        "colab": {
          "base_uri": "https://localhost:8080/"
        },
        "id": "cXymHSXqf-cj",
        "outputId": "6c8bf1c3-d663-4e76-e169-cf3f0afbefe7"
      },
      "execution_count": null,
      "outputs": [
        {
          "output_type": "stream",
          "name": "stdout",
          "text": [
            "{'Alice': 85}\n",
            "Removed grade: 95\n"
          ]
        }
      ]
    },
    {
      "cell_type": "markdown",
      "source": [
        "*   **Using the popitem() Method:** Removes and returns the last inserted key-value pair from the dictionary (in Python 3.7+).\n",
        "\n",
        "\n",
        "\n",
        "\n",
        "*   **Example**:\n",
        "\n"
      ],
      "metadata": {
        "id": "uH_SS3ThgGfy"
      }
    },
    {
      "cell_type": "code",
      "source": [
        "last_item = student_grades.popitem()  # Removing the last inserted item\n",
        "print(last_item)\n",
        "print(student_grades)\n"
      ],
      "metadata": {
        "colab": {
          "base_uri": "https://localhost:8080/"
        },
        "id": "ksXldKDwgTVl",
        "outputId": "600f5346-6769-425b-a9f3-34b2d38513d1"
      },
      "execution_count": null,
      "outputs": [
        {
          "output_type": "stream",
          "name": "stdout",
          "text": [
            "('Alice', 85)\n",
            "{}\n"
          ]
        }
      ]
    },
    {
      "cell_type": "markdown",
      "source": [
        "*   **Clearing the Dictionary:**If you want to remove all items from the dictionary, use the **clear( )** method.\n",
        "\n",
        "\n",
        "\n",
        "*   **Example**\n",
        "\n"
      ],
      "metadata": {
        "id": "ufhhWTcngdS0"
      }
    },
    {
      "cell_type": "code",
      "source": [
        "student_grades.clear()  # Removing all items\n",
        "print(student_grades)\n"
      ],
      "metadata": {
        "colab": {
          "base_uri": "https://localhost:8080/"
        },
        "id": "BBerEKVdguIS",
        "outputId": "edcff1ab-20f8-4b55-e6a6-87ceb965c22c"
      },
      "execution_count": null,
      "outputs": [
        {
          "output_type": "stream",
          "name": "stdout",
          "text": [
            "{}\n"
          ]
        }
      ]
    },
    {
      "cell_type": "markdown",
      "source": [
        "##Q8) Discuss the importance of dictionary keys being immutable and provide examples.\n",
        "\n",
        "\n",
        "\n",
        "##Ans- **Importance of Dictionary Keys Being Immutable in Python**\n",
        "\n",
        "\n",
        "\n",
        "\n",
        "In Python, dictionary keys must be immutable, meaning their values cannot be changed after they are created. This immutability is crucial for several reasons:\n",
        "\n",
        "\n",
        "\n",
        "\n",
        "\n",
        "\n",
        "#**1.   Hashing Requirement**\n",
        "\n",
        "\n",
        "\n",
        "*   **Explanation:** Python dictionaries are implemented using hash tables, where each key is hashed to produce an index for storing the associated value. Hashing is a process that converts the key into a fixed-size value (a hash) that determines where the data is stored in the dictionary.\n",
        "\n",
        "\n",
        "\n",
        "*   **Importance:** For a key to be hashable, it must remain consistent throughout its lifetime. If a key were mutable and could change after being used as a dictionary key, its hash value could also change, leading to data being stored in the wrong location or becoming inaccessible. This would break the integrity of the dictionary.\n",
        "\n",
        "\n",
        "\n",
        "*   **Example**:\n",
        "\n",
        "\n",
        "\n",
        "\n"
      ],
      "metadata": {
        "id": "IUevfDQ0hUtJ"
      }
    },
    {
      "cell_type": "code",
      "source": [
        "valid_key = (1, 2, 3)  # A tuple is immutable and can be used as a dictionary key\n",
        "my_dict = {valid_key: \"This is valid\"}\n",
        "\n",
        "# invalid_key = [1, 2, 3]  # A list is mutable and cannot be used as a dictionary key\n",
        "# my_dict = {invalid_key: \"This will raise an error\"}  # Raises TypeError: unhashable type: 'list'\n"
      ],
      "metadata": {
        "id": "nA4hcTT4iNQb"
      },
      "execution_count": null,
      "outputs": []
    },
    {
      "cell_type": "markdown",
      "source": [
        "#**2. Dictionary Integrity and Reliability**\n",
        "\n",
        "\n",
        "\n",
        "\n",
        "\n",
        "\n",
        "*   **Explanation:** The integrity of a dictionary relies on the assumption that keys do not change over time. If keys were mutable, modifying a key after it has been added to the dictionary could lead to inconsistencies or errors when trying to retrieve or update data.\n",
        "\n",
        "\n",
        "\n",
        "*   **Importance:** Immutability ensures that once a key-value pair is added to the dictionary, it remains stable and can be reliably accessed. This stability is essential for maintaining the consistency of data in applications.\n",
        "\n",
        "\n",
        "\n",
        "\n",
        "*   **Example**:\n",
        "\n",
        "\n",
        "\n"
      ],
      "metadata": {
        "id": "hmNxwn4Bi5lK"
      }
    },
    {
      "cell_type": "code",
      "source": [
        "my_dict = {(1, 2): \"Coordinates\", \"name\": \"Alice\"}\n",
        "\n",
        "# Imagine if the key (1, 2) could change to (2, 3)\n",
        "# The original entry would become unreachable or lead to errors\n"
      ],
      "metadata": {
        "id": "IFYsNmXnjXiL"
      },
      "execution_count": 10,
      "outputs": []
    },
    {
      "cell_type": "markdown",
      "source": [
        "\n",
        "\n",
        "#**3.    Dictionary Integrity and Reliability**\n",
        "\n",
        "\n",
        "\n",
        "\n",
        "\n",
        "\n",
        "*   **Explanation:** Dictionary keys must be unique, and immutability helps enforce this rule. If keys were mutable, it would be possible to accidentally modify a key in a way that violates the uniqueness constraint.\n",
        "\n",
        "\n",
        "\n",
        "*   **Importance:** Immutability prevents the accidental or intentional modification of keys that could result in multiple keys with the same value. This helps maintain the dictionary’s integrity and ensures that each key-value pair is correctly mapped.\n",
        "\n",
        "\n",
        "\n",
        "*   **Example**:\n",
        "\n",
        "\n"
      ],
      "metadata": {
        "id": "kcVhJjcCjdeJ"
      }
    },
    {
      "cell_type": "code",
      "source": [
        "my_dict = {\"Alice\": 25, \"Bob\": 30}\n",
        "\n",
        "# If keys were mutable, changing \"Alice\" to \"Bob\" would lead to a conflict\n",
        "# As \"Bob\" is already a key in the dictionary\n"
      ],
      "metadata": {
        "id": "wLtHnL1IjsOB"
      },
      "execution_count": null,
      "outputs": []
    },
    {
      "cell_type": "markdown",
      "source": [
        "#**4.   Use of Complex Data Types as Keys**\n",
        "\n",
        "\n",
        "\n",
        "\n",
        "\n",
        "\n",
        "*   **Explanation:** Because keys must be immutable, complex data types such as tuples can be used as dictionary keys, but lists and other mutable types cannot. This allows for more flexibility and precision in representing relationships between data.\n",
        "\n",
        "\n",
        "\n",
        "*   **Importance:** Immutability allows the use of complex, composite keys while ensuring that the dictionary remains efficient and reliable.\n",
        "\n",
        "\n",
        "\n",
        "*   **Example**:\n",
        "\n"
      ],
      "metadata": {
        "id": "BriRE5SCjyCT"
      }
    },
    {
      "cell_type": "code",
      "source": [
        "# Tuples can be used as keys because they are immutable\n",
        "my_dict = {(\"Alice\", \"Engineer\"): 25, (\"Bob\", \"Doctor\"): 30}\n",
        "print(my_dict[(\"Alice\", \"Engineer\")])\n"
      ],
      "metadata": {
        "colab": {
          "base_uri": "https://localhost:8080/"
        },
        "id": "P8PAYHHQkAA_",
        "outputId": "a570da22-5539-40f6-da22-4c66eb143af0"
      },
      "execution_count": null,
      "outputs": [
        {
          "output_type": "stream",
          "name": "stdout",
          "text": [
            "25\n"
          ]
        }
      ]
    },
    {
      "cell_type": "markdown",
      "source": [
        "#**5.   Use of Complex Data Types as Keys**\n",
        "\n",
        "\n",
        "\n",
        "\n",
        "\n",
        "\n",
        "*   **Explanation:** Using immutable keys helps prevent programming errors. If mutable types were allowed as keys, developers might inadvertently change a key after it’s been added to a dictionary, leading to difficult-to-trace bugs.\n",
        "\n",
        "\n",
        "*   **Importance:** By restricting keys to immutable types, Python helps developers avoid mistakes that could lead to data corruption or application errors.\n",
        "\n",
        "\n",
        "\n",
        "*   **Example**:\n",
        "\n",
        "\n"
      ],
      "metadata": {
        "id": "2AzNnrFskEuB"
      }
    },
    {
      "cell_type": "code",
      "source": [
        "# Protecting against potential errors\n",
        "# Imagine a list was used as a key and then modified\n"
      ],
      "metadata": {
        "id": "u1qZipcCkTIy"
      },
      "execution_count": null,
      "outputs": []
    }
  ]
}