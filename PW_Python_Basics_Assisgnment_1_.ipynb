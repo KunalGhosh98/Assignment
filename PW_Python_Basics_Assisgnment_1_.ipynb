{
  "nbformat": 4,
  "nbformat_minor": 0,
  "metadata": {
    "colab": {
      "provenance": []
    },
    "kernelspec": {
      "name": "python3",
      "display_name": "Python 3"
    },
    "language_info": {
      "name": "python"
    }
  },
  "cells": [
    {
      "cell_type": "markdown",
      "source": [
        "##Q1) Explain the key features of  that make it a popular choice for programming.\n",
        "\n",
        "\n",
        "##ANS- When considering the popularity of a programming language, several key features typically stand out that make it attractive to developers. Here are the essential attributes that often contribute to a programming language's popularity:\n",
        "\n",
        "##**1. Ease of Learning and Use**\n",
        "Simple Syntax: Languages like Python, for example, are designed with readability in mind, making them accessible even to beginners. A clean and simple syntax allows developers to write and understand code more easily.\n",
        "Comprehensive Documentation: Popular languages often come with extensive documentation and tutorials, which help both beginners and experienced programmers quickly grasp concepts and start coding.\n",
        "\n",
        "##**2. Versatility and Flexibility**\n",
        "Multi-paradigm Support: Popular languages often support multiple programming paradigms (like object-oriented, functional, and procedural), giving developers the flexibility to choose the best approach for their project.\n",
        "Cross-platform Compatibility: Many widely-used languages can run on multiple operating systems without modification, which is crucial for developing applications intended for diverse environments.\n",
        "##**3. Strong Community and Ecosystem**\n",
        "Active Community: A vibrant community means abundant resources such as forums, user groups, and online courses. It also means continuous improvements, bug fixes, and updates to the language.\n",
        "Rich Library and Framework Support: A vast ecosystem of libraries and frameworks allows developers to leverage existing tools for tasks like web development, data analysis, and machine learning, significantly speeding up development time.\n",
        "##**4. Performance**\n",
        "Efficient Execution: Languages that offer optimized performance, either through native execution (like C++ or Rust) or through efficient virtual machines (like Java), are favored for tasks where speed and resource management are critical.\n",
        "Scalability: Popular languages often have built-in or easily accessible tools and frameworks that facilitate the development of scalable applications, making them suitable for both small and large projects.\n",
        "##**5. Strong Industry Adoption**\n",
        "Industry Support: When a language is widely adopted by the tech industry, it often becomes the go-to choice for new projects, as there’s a larger pool of talent, tools, and libraries available.\n",
        "Corporate Backing: Some languages are developed or heavily supported by major tech companies (e.g., Google backing Go and Microsoft supporting C#), which helps ensure their long-term viability and evolution.\n",
        "##**6. Good Tooling and IDE Support**\n",
        "Integrated Development Environments (IDEs): Languages with strong IDE support can greatly enhance developer productivity by providing features like code completion, debugging, and version control integration.\n",
        "Tooling: Effective debugging, testing, and deployment tools make development smoother and more efficient, contributing to the language’s overall popularity.\n",
        "##**7. Security Features**\n",
        "Safety Mechanisms: Many popular languages are designed with security in mind, incorporating features like memory safety, strong type systems, and built-in security libraries, which help developers write safer code.\n",
        "Regular Updates: Active maintenance and security patches are crucial for keeping the language safe from vulnerabilities, thus maintaining its reputation and usage in sensitive environments.\n",
        "##**8. Community Contributions**\n",
        "Open Source Nature: Many popular languages are open-source, allowing developers to contribute to their improvement. This collaborative environment fosters innovation and rapid evolution.\n",
        "Package Managers: Languages with robust package management systems (like Python's pip or JavaScript's npm) enable easy sharing and reuse of code, further enhancing productivity and innovation.\n",
        "These features collectively contribute to the attractiveness and sustained popularity of a programming language, making it a preferred choice for developers across various domains."
      ],
      "metadata": {
        "id": "1I8hLMpXbnTK"
      }
    },
    {
      "cell_type": "markdown",
      "source": [
        "##Q2)Describe the role of predefined keywords in Python and provide examples of how they are used in a program.\n",
        "\n",
        "##Ans- Predefined keywords in Python play a fundamental role in the language's syntax and structure. These keywords are reserved words that have a specific meaning to the Python interpreter and are essential for writing correct and efficient Python code. They form the building blocks of Python's control flow, data management, and other core functionalities.\n",
        "\n",
        "##**Role of Predefined Keywords in Python**\n",
        "##**Control Flow Management:**\n",
        "\n",
        "\n",
        "*   **Conditional Statements:**Keywords like if, elif, and else are used to control the flow of a program based on conditions. They allow the program to make decisions and execute certain blocks of code conditionally.\n",
        "\n",
        "*   **Looping Constructs:** Keywords such as for, while, and break manage loops, enabling repetitive execution of code blocks. continue and break help control the behavior within loops, allowing for more refined control over iterations.\n",
        "\n",
        "\n",
        "##**Function and Class Definitions**:\n",
        "\n",
        "\n",
        "*   **Defining Functions:** The def keyword is used to define functions in Python. Functions are reusable blocks of code that perform specific tasks.\n",
        "*   **Class Definitions:** The class keyword is used to define new classes, which are the blueprints for creating objects in object-oriented programming.\n",
        "\n",
        "##**Data Handling**:\n",
        "\n",
        "\n",
        "*   **Variable Assignment:** The = symbol isn't technically a keyword, but it works with keywords like True, False, and None to assign values to variables.\n",
        "\n",
        "\n",
        "*   **Data Types:** Keywords like int, float, str, list, dict, etc., are used to define the types of data structures in Python.\n",
        "\n",
        "*   **Try-Except Blocks:** Keywords such as try, except, finally, and raise are used to manage exceptions in Python. They help in handling errors gracefully without crashing the program.\n",
        "\n",
        "\n",
        "*   **Assertions:** The assert keyword is used for debugging purposes, allowing the programmer to test assumptions in the code.\n",
        "\n",
        "\n",
        "##**Importing Modules**:\n",
        "\n",
        "\n",
        "*   **Import Statements:** The import and from keywords allow a Python program to use functions, classes, and variables from external modules or other Python files. This supports code modularity and reuse.\n",
        "\n",
        "##**Logical and Membership Operations**:\n",
        "\n",
        "\n",
        "*   **Boolean Logic:** Keywords like and, or, and not are used to perform logical operations, essential for decision-making processes in code.\n",
        "Membership Testing: The in and not in keywords are used to check for membership within sequences like lists, tuples, or strings.\n",
        "\n",
        "*   **Membership Testing:** The in and not in keywords are used to check for membership within sequences like lists, tuples, or strings.\n",
        "\n",
        "\n",
        "\n",
        "\n",
        "##**Examples of Predefined Keywords in Use**\n",
        "Below are some examples demonstrating how these keywords are used in a Python program:\n",
        "\n",
        "##**Example 1: Control Flow with 'if', 'elif', and 'else'**"
      ],
      "metadata": {
        "id": "SvtnTunTcDga"
      }
    },
    {
      "cell_type": "code",
      "execution_count": null,
      "metadata": {
        "colab": {
          "base_uri": "https://localhost:8080/"
        },
        "id": "yna_W1cYYkpW",
        "outputId": "e01e22ad-3b80-4d0b-c160-a9c11d8a1881"
      },
      "outputs": [
        {
          "output_type": "stream",
          "name": "stdout",
          "text": [
            "You are an adult.\n"
          ]
        }
      ],
      "source": [
        "age = 20\n",
        "\n",
        "if age < 18:\n",
        "    print(\"You are a minor.\")\n",
        "elif age == 18:\n",
        "    print(\"You just became an adult!\")\n",
        "else:\n",
        "    print(\"You are an adult.\")\n"
      ]
    },
    {
      "cell_type": "markdown",
      "source": [
        "##**Example 2: Defining a Function with 'def' and Using 'return'**"
      ],
      "metadata": {
        "id": "UKy8GsYqclld"
      }
    },
    {
      "cell_type": "code",
      "source": [
        "def add_numbers(a, b):\n",
        "    return a + b\n",
        "\n",
        "result = add_numbers(5, 3)\n",
        "print(result)\n"
      ],
      "metadata": {
        "colab": {
          "base_uri": "https://localhost:8080/"
        },
        "id": "Vc0lQedGdQ7w",
        "outputId": "ae988b7c-f0f7-4ee0-a3cd-60251a0b477f"
      },
      "execution_count": null,
      "outputs": [
        {
          "output_type": "stream",
          "name": "stdout",
          "text": [
            "8\n"
          ]
        }
      ]
    },
    {
      "cell_type": "markdown",
      "source": [
        "##**Example 3: Looping with 'for' and Using 'break'**"
      ],
      "metadata": {
        "id": "EmMZKUMLf7qN"
      }
    },
    {
      "cell_type": "code",
      "source": [
        "for i in range(10):\n",
        "    if i == 5:\n",
        "        break\n",
        "    print(i)\n"
      ],
      "metadata": {
        "colab": {
          "base_uri": "https://localhost:8080/"
        },
        "id": "eTpKkPSDgNwK",
        "outputId": "42b04f63-6fab-42b1-bccc-4e8f90e179ec"
      },
      "execution_count": null,
      "outputs": [
        {
          "output_type": "stream",
          "name": "stdout",
          "text": [
            "0\n",
            "1\n",
            "2\n",
            "3\n",
            "4\n"
          ]
        }
      ]
    },
    {
      "cell_type": "markdown",
      "source": [
        "##**Example 4: Exception Handling with 'try', 'except', and 'finally'**"
      ],
      "metadata": {
        "id": "ddBVm34cgYYC"
      }
    },
    {
      "cell_type": "code",
      "source": [
        "try:\n",
        "    number = int(input(\"Enter a number: \"))\n",
        "    print(f\"The number you entered is {number}\")\n",
        "except ValueError:\n",
        "    print(\"That's not a valid number!\")\n",
        "finally:\n",
        "    print(\"Execution finished.\")\n"
      ],
      "metadata": {
        "colab": {
          "base_uri": "https://localhost:8080/"
        },
        "id": "EbhQnlVigf20",
        "outputId": "83a08055-a5c5-49b0-c29a-dcfda1492180"
      },
      "execution_count": null,
      "outputs": [
        {
          "output_type": "stream",
          "name": "stdout",
          "text": [
            "Enter a number: 5\n",
            "The number you entered is 5\n",
            "Execution finished.\n"
          ]
        }
      ]
    },
    {
      "cell_type": "markdown",
      "source": [
        "##**Example 5: Importing Modules with 'import'**"
      ],
      "metadata": {
        "id": "eOAZD_SCgq7s"
      }
    },
    {
      "cell_type": "code",
      "source": [
        "import math\n",
        "\n",
        "print(math.sqrt(16))\n"
      ],
      "metadata": {
        "colab": {
          "base_uri": "https://localhost:8080/"
        },
        "id": "5EpdD3_pguUH",
        "outputId": "006020ef-4c27-471b-f195-38c050f2071d"
      },
      "execution_count": null,
      "outputs": [
        {
          "output_type": "stream",
          "name": "stdout",
          "text": [
            "4.0\n"
          ]
        }
      ]
    },
    {
      "cell_type": "markdown",
      "source": [
        "##Q3)Compare and contrast mutable and immutable objects in Python with examples."
      ],
      "metadata": {
        "id": "aaKgYl8dhgI7"
      }
    },
    {
      "cell_type": "markdown",
      "source": [
        "##Ans- In Python, objects can be categorized into mutable and immutable based on whether their values can be altered after they are created. Understanding the differences between these two categories is important for effective programming, as it influences how data is managed and how code behaves."
      ],
      "metadata": {
        "id": "Xbtpb8_5hp5j"
      }
    },
    {
      "cell_type": "markdown",
      "source": [
        "##Mutable Objects\n",
        "Mutable objects are those whose internal state (or content) can be changed after they are created. When you modify a mutable object, you are altering the original object itself, without needing to create a new one."
      ],
      "metadata": {
        "id": "Rf_HGa_Ph0Be"
      }
    },
    {
      "cell_type": "markdown",
      "source": [
        "##Examples of Mutable Objects\n",
        "\n",
        "*   Lists: Lists in Python can be modified after creation, allowing you to add, remove, or change elements.\n",
        "*   Dictionaries: Dictionaries allow modifications, such as adding new key-value pairs or altering existing ones.\n",
        "\n",
        "*   Sets: Sets are also mutable, meaning elements can be added or removed after the set is created.\n"
      ],
      "metadata": {
        "id": "wec69QSah9Yq"
      }
    },
    {
      "cell_type": "markdown",
      "source": [
        "##Example of a Mutable Object (List)"
      ],
      "metadata": {
        "id": "f1LQ4h6GnLJZ"
      }
    },
    {
      "cell_type": "code",
      "source": [
        "my_list = [1, 2, 3]\n",
        "my_list.append(4)\n",
        "print(my_list)\n"
      ],
      "metadata": {
        "colab": {
          "base_uri": "https://localhost:8080/"
        },
        "id": "EDxa4IyvnDNT",
        "outputId": "bb0ddc55-1cc7-4f5e-c702-91a7c5a00408"
      },
      "execution_count": null,
      "outputs": [
        {
          "output_type": "stream",
          "name": "stdout",
          "text": [
            "[1, 2, 3, 4]\n"
          ]
        }
      ]
    },
    {
      "cell_type": "markdown",
      "source": [
        "##Immutable Objects\n",
        "Immutable objects, on the other hand, are those whose state cannot be changed once they are created. Any operation that tries to modify an immutable object will instead create a new object with the altered value."
      ],
      "metadata": {
        "id": "EDftiPJVnabi"
      }
    },
    {
      "cell_type": "markdown",
      "source": [
        "##Examples of Immutable Objects\n",
        "\n",
        "\n",
        "*   **Strings:** Strings cannot be altered after they are created. Any operation that modifies a string results in a new string being created.\n",
        "\n",
        "*   **Tuples:** Tuples are immutable sequences, meaning their contents cannot be changed after they are defined.\n",
        "*   **Integers and Floats:** Numbers in Python, such as integers and floats, are immutable. Changing the value of a number actually creates a new object.\n"
      ],
      "metadata": {
        "id": "4RH6bdoMnd8j"
      }
    },
    {
      "cell_type": "markdown",
      "source": [
        "##Example of an Immutable Object (String)"
      ],
      "metadata": {
        "id": "of70iQxhn6GK"
      }
    },
    {
      "cell_type": "code",
      "source": [
        "my_string = \"Hello\"\n",
        "new_string = my_string + \" World\"\n",
        "print(my_string)\n",
        "print(new_string)\n"
      ],
      "metadata": {
        "colab": {
          "base_uri": "https://localhost:8080/"
        },
        "id": "ME1D3sfVoBN5",
        "outputId": "1ad78c9d-f757-4e5c-8d1e-f0173c58546c"
      },
      "execution_count": null,
      "outputs": [
        {
          "output_type": "stream",
          "name": "stdout",
          "text": [
            "Hello\n",
            "Hello World\n"
          ]
        }
      ]
    },
    {
      "cell_type": "markdown",
      "source": [
        "##Key Differences Between Mutable and Immutable Objects"
      ],
      "metadata": {
        "id": "tEl6msc7oHtB"
      }
    },
    {
      "cell_type": "markdown",
      "source": [
        "**1.**   **Modification:**\n",
        "\n",
        "\n",
        "*   **Mutable Objects:** Can be modified in place. Changes directly affect the original object.\n",
        "\n",
        "*   **Immutable Objects:** Cannot be modified. Any change creates a new object, leaving the original object unchanged.\n",
        "\n",
        "\n",
        "**2.**   **Memory Management:**\n",
        "\n",
        "\n",
        "* **Mutable Objects:** Efficient in memory usage when changes are frequent because they avoid creating new objects.\n",
        "\n",
        "*   **Immutable Objects:** More predictable in memory usage because the object does not change, ensuring data integrity but potentially leading to higher memory usage if many changes are required.\n",
        "\n",
        "\n",
        "\n",
        "**3.**   **Usage Scenarios:**\n",
        "\n",
        "\n",
        "*   **Mutable Objects:** Ideal when the data needs to be frequently modified, such as in dynamic data structures (e.g., lists, dictionaries).\n",
        "\n",
        "*   **Immutable Objects:** Useful for maintaining consistent data, as their immutability guarantees that the data won't change unexpectedly (e.g., using strings as dictionary keys).\n",
        "\n",
        "\n",
        "**4.**   **Assignment and Copying Behavior:**\n",
        "\n",
        "\n",
        "*   **Mutable Objects:** Assigning a mutable object to another variable creates a reference to the same object. Changes to one variable will affect the other.\n",
        "\n",
        "*   **Immutable Objects:** Assigning an immutable object to another variable also creates a reference, but since the object can't change, both variables remain independent in terms of content.\n",
        "\n",
        "##Example of Copying Behavior\n",
        "##Mutable Object (List):\n",
        "\n",
        "\n",
        "\n",
        "\n",
        "\n",
        "\n",
        "\n",
        "\n",
        "\n"
      ],
      "metadata": {
        "id": "e9GE6oeNoKAa"
      }
    },
    {
      "cell_type": "code",
      "source": [
        "list1 = [1, 2, 3]\n",
        "list2 = list1\n",
        "list2.append(4)\n",
        "\n",
        "print(list1)\n",
        "print(list2)\n"
      ],
      "metadata": {
        "colab": {
          "base_uri": "https://localhost:8080/"
        },
        "id": "J_wgyaHCriGw",
        "outputId": "a62124ac-7f2f-4b85-a62e-31e05d0cbb98"
      },
      "execution_count": null,
      "outputs": [
        {
          "output_type": "stream",
          "name": "stdout",
          "text": [
            "[1, 2, 3, 4]\n",
            "[1, 2, 3, 4]\n"
          ]
        }
      ]
    },
    {
      "cell_type": "markdown",
      "source": [
        "##Immutable Object (Tuple):"
      ],
      "metadata": {
        "id": "wpKnFuBNrswW"
      }
    },
    {
      "cell_type": "code",
      "source": [
        "tuple1 = (1, 2, 3)\n",
        "tuple2 = tuple1\n",
        "tuple2 = tuple2 + (4,)\n",
        "\n",
        "print(tuple1)\n",
        "print(tuple2)\n"
      ],
      "metadata": {
        "colab": {
          "base_uri": "https://localhost:8080/"
        },
        "id": "tyC9jyj5rxJG",
        "outputId": "4ce5586d-f8f9-499f-de72-7f8f27dd1624"
      },
      "execution_count": null,
      "outputs": [
        {
          "output_type": "stream",
          "name": "stdout",
          "text": [
            "(1, 2, 3)\n",
            "(1, 2, 3, 4)\n"
          ]
        }
      ]
    },
    {
      "cell_type": "markdown",
      "source": [
        "##Q4)Discuss the different types of operators in Python and provide examples of how they are used.\n",
        "\n",
        "##Ans- In Python, operators are special symbols or keywords used to perform operations on variables and values. Python supports a wide range of operators, each serving a different purpose. These operators can be categorized into several types, including arithmetic, comparison, logical, bitwise, assignment, identity, membership, and others. Understanding these operators is crucial for manipulating data and writing effective Python code.\n",
        "\n",
        "\n",
        "\n",
        "##**1.**   **Arithmetic Operators**\n",
        "Arithmetic operators are used to perform mathematical operations like addition, subtraction, multiplication, division, and more.\n",
        "\n",
        "\n",
        "*   **Addition ('+')**\n",
        "\n"
      ],
      "metadata": {
        "id": "hOXrN0RqsRA5"
      }
    },
    {
      "cell_type": "code",
      "source": [
        "a = 5\n",
        "b = 3\n",
        "result = a + b\n",
        "print(result)\n"
      ],
      "metadata": {
        "colab": {
          "base_uri": "https://localhost:8080/"
        },
        "id": "5KGswniktNit",
        "outputId": "ae1450e4-1b76-41fc-e2b8-a94ac6bfb475"
      },
      "execution_count": null,
      "outputs": [
        {
          "output_type": "stream",
          "name": "stdout",
          "text": [
            "8\n"
          ]
        }
      ]
    },
    {
      "cell_type": "markdown",
      "source": [
        "**Subtraction ('-')**"
      ],
      "metadata": {
        "id": "xiOpKOCPudJ6"
      }
    },
    {
      "cell_type": "code",
      "source": [
        "a = 10\n",
        "b = 4\n",
        "result = a - b\n",
        "print(result)\n"
      ],
      "metadata": {
        "colab": {
          "base_uri": "https://localhost:8080/"
        },
        "id": "XW4FBBAxus7S",
        "outputId": "b5c93801-c4f9-4891-c76b-52bec65468a1"
      },
      "execution_count": null,
      "outputs": [
        {
          "output_type": "stream",
          "name": "stdout",
          "text": [
            "6\n"
          ]
        }
      ]
    },
    {
      "cell_type": "markdown",
      "source": [
        "**Multiplication**('*')"
      ],
      "metadata": {
        "id": "fEeMsaM4u2E_"
      }
    },
    {
      "cell_type": "code",
      "source": [
        "a = 7\n",
        "b = 2\n",
        "result = a * b\n",
        "print(result)\n"
      ],
      "metadata": {
        "colab": {
          "base_uri": "https://localhost:8080/"
        },
        "id": "9FwEGh83u-kw",
        "outputId": "830ca591-8b79-45dc-e844-6cae2e5214ce"
      },
      "execution_count": null,
      "outputs": [
        {
          "output_type": "stream",
          "name": "stdout",
          "text": [
            "14\n"
          ]
        }
      ]
    },
    {
      "cell_type": "markdown",
      "source": [
        "**Division ('/')**"
      ],
      "metadata": {
        "id": "JMq3Fcuhvpqn"
      }
    },
    {
      "cell_type": "code",
      "source": [
        "a = 9\n",
        "b = 2\n",
        "result = a / b\n",
        "print(result)\n"
      ],
      "metadata": {
        "colab": {
          "base_uri": "https://localhost:8080/"
        },
        "id": "VD0jsE8bvwbu",
        "outputId": "bcbfb561-c08d-4fb2-f582-13ad3261419c"
      },
      "execution_count": null,
      "outputs": [
        {
          "output_type": "stream",
          "name": "stdout",
          "text": [
            "4.5\n"
          ]
        }
      ]
    },
    {
      "cell_type": "markdown",
      "source": [
        "**Floor Division ('//'):** Returns the largest integer less than or equal to the division result."
      ],
      "metadata": {
        "id": "WJObEo_dv2CE"
      }
    },
    {
      "cell_type": "code",
      "source": [
        "a = 9\n",
        "b = 2\n",
        "result = a // b\n",
        "print(result)\n"
      ],
      "metadata": {
        "colab": {
          "base_uri": "https://localhost:8080/"
        },
        "id": "xE_N0ZAfwAUJ",
        "outputId": "756ace19-814a-4c5c-b3f2-6f950a71fe80"
      },
      "execution_count": null,
      "outputs": [
        {
          "output_type": "stream",
          "name": "stdout",
          "text": [
            "4\n"
          ]
        }
      ]
    },
    {
      "cell_type": "markdown",
      "source": [
        "**Modulus ('%'):** Returns the remainder of the division."
      ],
      "metadata": {
        "id": "AKRAPYd4wFKV"
      }
    },
    {
      "cell_type": "code",
      "source": [
        "a = 9\n",
        "b = 2\n",
        "result = a % b\n",
        "print(result)\n"
      ],
      "metadata": {
        "colab": {
          "base_uri": "https://localhost:8080/"
        },
        "id": "miW2T6zjwO00",
        "outputId": "47208536-2f56-4ecd-f067-be7450316c12"
      },
      "execution_count": null,
      "outputs": [
        {
          "output_type": "stream",
          "name": "stdout",
          "text": [
            "1\n"
          ]
        }
      ]
    },
    {
      "cell_type": "markdown",
      "source": [
        "**Exponentiation** ('**'):  Raises the first number to the power of the second."
      ],
      "metadata": {
        "id": "q3yArWlewURA"
      }
    },
    {
      "cell_type": "code",
      "source": [
        "a = 3\n",
        "b = 4\n",
        "result = a ** b\n",
        "print(result)\n"
      ],
      "metadata": {
        "colab": {
          "base_uri": "https://localhost:8080/"
        },
        "id": "-h8YJuR_wlnd",
        "outputId": "2a5749a6-80dd-4ee2-feba-2b911fc21a53"
      },
      "execution_count": null,
      "outputs": [
        {
          "output_type": "stream",
          "name": "stdout",
          "text": [
            "81\n"
          ]
        }
      ]
    },
    {
      "cell_type": "markdown",
      "source": [
        "##**2.**   **Comparison Operators**\n",
        "Comparison operators are used to compare two values. They return True or False based on the comparison.\n",
        "\n",
        "\n",
        "\n",
        "\n",
        "*   **Equal to ('==')**\n",
        "\n",
        "\n",
        "\n",
        "\n"
      ],
      "metadata": {
        "id": "PpNJIW92wuik"
      }
    },
    {
      "cell_type": "code",
      "source": [
        "a = 5\n",
        "b = 5\n",
        "result = a == b\n",
        "print(result)\n"
      ],
      "metadata": {
        "colab": {
          "base_uri": "https://localhost:8080/"
        },
        "id": "QujyANlNxKQk",
        "outputId": "663cad80-7ac8-46e0-c45a-cc69a64717e0"
      },
      "execution_count": null,
      "outputs": [
        {
          "output_type": "stream",
          "name": "stdout",
          "text": [
            "True\n"
          ]
        }
      ]
    },
    {
      "cell_type": "markdown",
      "source": [
        "**Not equal to ('!=')**"
      ],
      "metadata": {
        "id": "t6mzQ0rNxSz9"
      }
    },
    {
      "cell_type": "code",
      "source": [
        "a = 5\n",
        "b = 3\n",
        "result = a != b\n",
        "print(result)\n"
      ],
      "metadata": {
        "colab": {
          "base_uri": "https://localhost:8080/"
        },
        "id": "XCG1fVOAxbAN",
        "outputId": "42fb4558-22f9-49f7-e5c5-c7c88b9ad246"
      },
      "execution_count": null,
      "outputs": [
        {
          "output_type": "stream",
          "name": "stdout",
          "text": [
            "True\n"
          ]
        }
      ]
    },
    {
      "cell_type": "markdown",
      "source": [
        "**Greater than ('>')**"
      ],
      "metadata": {
        "id": "Bdune46QxjGN"
      }
    },
    {
      "cell_type": "code",
      "source": [
        "a = 7\n",
        "b = 4\n",
        "result = a > b\n",
        "print(result)\n"
      ],
      "metadata": {
        "colab": {
          "base_uri": "https://localhost:8080/"
        },
        "id": "RecGT6WExnZN",
        "outputId": "37adc10b-a4d1-46de-bdf0-9542277626bc"
      },
      "execution_count": null,
      "outputs": [
        {
          "output_type": "stream",
          "name": "stdout",
          "text": [
            "True\n"
          ]
        }
      ]
    },
    {
      "cell_type": "markdown",
      "source": [
        "**Less than ('<')**"
      ],
      "metadata": {
        "id": "VzqNsxz7xwHj"
      }
    },
    {
      "cell_type": "code",
      "source": [
        "a = 3\n",
        "b = 5\n",
        "result = a < b\n",
        "print(result)\n"
      ],
      "metadata": {
        "colab": {
          "base_uri": "https://localhost:8080/"
        },
        "id": "V8GFz-Mux1Dd",
        "outputId": "bafae272-fb4b-46db-b881-65067fa2c954"
      },
      "execution_count": null,
      "outputs": [
        {
          "output_type": "stream",
          "name": "stdout",
          "text": [
            "True\n"
          ]
        }
      ]
    },
    {
      "cell_type": "markdown",
      "source": [
        "**Greater than or equal to ('>=')**"
      ],
      "metadata": {
        "id": "gO1750PPx8jJ"
      }
    },
    {
      "cell_type": "code",
      "source": [
        "a = 7\n",
        "b = 7\n",
        "result = a >= b\n",
        "print(result)\n"
      ],
      "metadata": {
        "colab": {
          "base_uri": "https://localhost:8080/"
        },
        "id": "7Bzvu0eNyC3U",
        "outputId": "8fc7f415-a3fe-4d04-ce1f-3ed175ea92d1"
      },
      "execution_count": null,
      "outputs": [
        {
          "output_type": "stream",
          "name": "stdout",
          "text": [
            "True\n"
          ]
        }
      ]
    },
    {
      "cell_type": "markdown",
      "source": [
        "**Less than or equal to ('<=')**"
      ],
      "metadata": {
        "id": "tVBBtNyfybBJ"
      }
    },
    {
      "cell_type": "code",
      "source": [
        "a = 2\n",
        "b = 5\n",
        "result = a <= b\n",
        "print(result)\n"
      ],
      "metadata": {
        "colab": {
          "base_uri": "https://localhost:8080/"
        },
        "id": "zwAXoo4fyfzG",
        "outputId": "7aa2dad6-7568-4839-d3bd-922495757fcd"
      },
      "execution_count": null,
      "outputs": [
        {
          "output_type": "stream",
          "name": "stdout",
          "text": [
            "True\n"
          ]
        }
      ]
    },
    {
      "cell_type": "markdown",
      "source": [
        "##**3.**   **Logical Operators**\n",
        "Logical operators are used to combine conditional statements. They include 'and', 'or', and 'not'.\n",
        "\n",
        "\n",
        "*   **AND ('and'):** Returns **'True'** if both operands are true.\n",
        "\n",
        "\n",
        "\n"
      ],
      "metadata": {
        "id": "ZjPxQYtIyouC"
      }
    },
    {
      "cell_type": "code",
      "source": [
        "a = True\n",
        "b = False\n",
        "result = a and b\n",
        "print(result)\n"
      ],
      "metadata": {
        "colab": {
          "base_uri": "https://localhost:8080/"
        },
        "id": "I-L5dIEE0kgs",
        "outputId": "9143e85b-1925-45f1-d28c-fa6d448f1549"
      },
      "execution_count": null,
      "outputs": [
        {
          "output_type": "stream",
          "name": "stdout",
          "text": [
            "False\n"
          ]
        }
      ]
    },
    {
      "cell_type": "markdown",
      "source": [
        "*   **OR ('or'):** Returns **'True'** if at least one of the operands is true.\n",
        "\n"
      ],
      "metadata": {
        "id": "MtFVyp-60uHZ"
      }
    },
    {
      "cell_type": "code",
      "source": [
        "a = True\n",
        "b = False\n",
        "result = a or b\n",
        "print(result)\n"
      ],
      "metadata": {
        "colab": {
          "base_uri": "https://localhost:8080/"
        },
        "id": "m4EW3-_-06o_",
        "outputId": "45e7b0d1-8663-4b23-f30c-367153e058ca"
      },
      "execution_count": null,
      "outputs": [
        {
          "output_type": "stream",
          "name": "stdout",
          "text": [
            "True\n"
          ]
        }
      ]
    },
    {
      "cell_type": "markdown",
      "source": [
        "\n",
        "\n",
        "*   **NOT ('not'):** Reverses the logical state of its operand.\n",
        "\n"
      ],
      "metadata": {
        "id": "ir7u_o7r1R4W"
      }
    },
    {
      "cell_type": "code",
      "source": [
        "a = True\n",
        "result = not a\n",
        "print(result)\n"
      ],
      "metadata": {
        "colab": {
          "base_uri": "https://localhost:8080/"
        },
        "id": "2n5dDOlu1p71",
        "outputId": "23394dfa-40ae-4377-dedf-8b3be601fb2e"
      },
      "execution_count": null,
      "outputs": [
        {
          "output_type": "stream",
          "name": "stdout",
          "text": [
            "False\n"
          ]
        }
      ]
    },
    {
      "cell_type": "markdown",
      "source": [
        "##**4.**   **Bitwise Operators**\n",
        "\n",
        "Bitwise operators perform operations on binary representations of integers.\n",
        "\n",
        "\n",
        "*   **AND ('&'):** Sets each bit to 1 if both bits are 1.\n",
        "\n",
        "\n"
      ],
      "metadata": {
        "id": "CCPrNyzn2rfb"
      }
    },
    {
      "cell_type": "code",
      "source": [
        "a = 5\n",
        "b = 3\n",
        "result = a & b\n",
        "print(result)\n"
      ],
      "metadata": {
        "colab": {
          "base_uri": "https://localhost:8080/"
        },
        "id": "MryiIMzP3Ndj",
        "outputId": "171a5c85-38c3-42ed-b775-4f61fe46d1d0"
      },
      "execution_count": null,
      "outputs": [
        {
          "output_type": "stream",
          "name": "stdout",
          "text": [
            "1\n"
          ]
        }
      ]
    },
    {
      "cell_type": "markdown",
      "source": [
        "*   **OR ('**|**'):** Sets each bit to 1 if one of the two bits is 1.\n",
        "\n"
      ],
      "metadata": {
        "id": "a2tOVpoB3biy"
      }
    },
    {
      "cell_type": "code",
      "source": [
        "a = 5\n",
        "b = 3\n",
        "result = a | b\n",
        "print(result)\n"
      ],
      "metadata": {
        "colab": {
          "base_uri": "https://localhost:8080/"
        },
        "id": "YS6nh_gj3wTw",
        "outputId": "88df30a2-064f-41cb-dbc3-53655f037ac2"
      },
      "execution_count": null,
      "outputs": [
        {
          "output_type": "stream",
          "name": "stdout",
          "text": [
            "7\n"
          ]
        }
      ]
    },
    {
      "cell_type": "markdown",
      "source": [
        "*   **XOR ('^'):** Sets each bit to 1 if only one of the two bits is 1.\n",
        "\n"
      ],
      "metadata": {
        "id": "lfy6XJc837TR"
      }
    },
    {
      "cell_type": "code",
      "source": [
        "a = 5\n",
        "b = 3\n",
        "result = a ^ b\n",
        "print(result)\n"
      ],
      "metadata": {
        "colab": {
          "base_uri": "https://localhost:8080/"
        },
        "id": "97jyDEXY4YJU",
        "outputId": "fa341121-9d2d-4ed4-ecca-747264693a0c"
      },
      "execution_count": null,
      "outputs": [
        {
          "output_type": "stream",
          "name": "stdout",
          "text": [
            "6\n"
          ]
        }
      ]
    },
    {
      "cell_type": "markdown",
      "source": [
        "*   **NOT ('~'):** Inverts all the bits.\n",
        "\n"
      ],
      "metadata": {
        "id": "GKge4DNF4hsL"
      }
    },
    {
      "cell_type": "code",
      "source": [
        "a = 5\n",
        "result = ~a\n",
        "print(result)\n"
      ],
      "metadata": {
        "colab": {
          "base_uri": "https://localhost:8080/"
        },
        "id": "stBXJtcx40Aa",
        "outputId": "82149b30-3ec8-45b0-e27a-91e01e134492"
      },
      "execution_count": null,
      "outputs": [
        {
          "output_type": "stream",
          "name": "stdout",
          "text": [
            "-6\n"
          ]
        }
      ]
    },
    {
      "cell_type": "markdown",
      "source": [
        "*   **Left Shift ('<<'):** Shifts bits to the left by the specified number of positions.\n",
        "\n"
      ],
      "metadata": {
        "id": "-Yzho-445CFt"
      }
    },
    {
      "cell_type": "code",
      "source": [
        "a = 5\n",
        "result = a << 1\n",
        "print(result)\n"
      ],
      "metadata": {
        "colab": {
          "base_uri": "https://localhost:8080/"
        },
        "id": "jqbcRmy15W2U",
        "outputId": "31386eea-fa80-4a74-b915-b10501983354"
      },
      "execution_count": null,
      "outputs": [
        {
          "output_type": "stream",
          "name": "stdout",
          "text": [
            "10\n"
          ]
        }
      ]
    },
    {
      "cell_type": "markdown",
      "source": [
        "*   **Right Shift ('>>'):** Shifts bits to the right by the specified number of positions\n",
        "\n",
        "\n"
      ],
      "metadata": {
        "id": "lx_0aLQt5gAX"
      }
    },
    {
      "cell_type": "code",
      "source": [
        "a = 5\n",
        "result = a >> 1\n",
        "print(result)\n"
      ],
      "metadata": {
        "colab": {
          "base_uri": "https://localhost:8080/"
        },
        "id": "JoPWXekX5sB6",
        "outputId": "52ae6391-50df-420e-9697-27115eb8718e"
      },
      "execution_count": null,
      "outputs": [
        {
          "output_type": "stream",
          "name": "stdout",
          "text": [
            "2\n"
          ]
        }
      ]
    },
    {
      "cell_type": "markdown",
      "source": [
        "##**5.**   **Assignment Operators**\n",
        "\n",
        "Assignment operators are used to assign values to variables, often combining assignment with another operation.\n",
        "\n",
        "\n",
        "\n",
        "*   **Simple Assignment ('=')**\n",
        "\n",
        "\n",
        "\n",
        "\n"
      ],
      "metadata": {
        "id": "FOZL0MJI51Ns"
      }
    },
    {
      "cell_type": "code",
      "source": [
        "a = 5\n",
        "print(a)\n"
      ],
      "metadata": {
        "colab": {
          "base_uri": "https://localhost:8080/"
        },
        "id": "XNobZRlV6NiP",
        "outputId": "dc6db903-7020-4d08-a473-77eb7ef2f80c"
      },
      "execution_count": null,
      "outputs": [
        {
          "output_type": "stream",
          "name": "stdout",
          "text": [
            "5\n"
          ]
        }
      ]
    },
    {
      "cell_type": "markdown",
      "source": [
        "*   **Add and Assign ('+=')**\n",
        "\n"
      ],
      "metadata": {
        "id": "mZhSpRq26RcO"
      }
    },
    {
      "cell_type": "code",
      "source": [
        "a = 5\n",
        "a += 3\n",
        "print(a)\n"
      ],
      "metadata": {
        "colab": {
          "base_uri": "https://localhost:8080/"
        },
        "id": "x2cvgCWF6dns",
        "outputId": "ce506edf-5523-410c-e5ae-9574cc3754da"
      },
      "execution_count": null,
      "outputs": [
        {
          "output_type": "stream",
          "name": "stdout",
          "text": [
            "8\n"
          ]
        }
      ]
    },
    {
      "cell_type": "markdown",
      "source": [
        "*   **Subtract and Assign ('-=')**\n",
        "\n",
        "\n",
        "\n",
        "\n"
      ],
      "metadata": {
        "id": "0Z2-tyGn65ei"
      }
    },
    {
      "cell_type": "code",
      "source": [
        "a = 5\n",
        "a -= 2\n",
        "print(a)\n"
      ],
      "metadata": {
        "colab": {
          "base_uri": "https://localhost:8080/"
        },
        "id": "UHG9NfiX7OJP",
        "outputId": "a6b9f3f3-b09a-40af-be73-ec1903c281b0"
      },
      "execution_count": null,
      "outputs": [
        {
          "output_type": "stream",
          "name": "stdout",
          "text": [
            "3\n"
          ]
        }
      ]
    },
    {
      "cell_type": "markdown",
      "source": [
        "*   **Multiply and Assign** ('*=')\n",
        "\n"
      ],
      "metadata": {
        "id": "z7Ua3Z_i7iIM"
      }
    },
    {
      "cell_type": "code",
      "source": [
        "a = 4\n",
        "a *= 2\n",
        "print(a)\n"
      ],
      "metadata": {
        "colab": {
          "base_uri": "https://localhost:8080/"
        },
        "id": "vwWFet9g7tSS",
        "outputId": "e3c4c17d-3a96-46e2-8c12-b7c40c910dad"
      },
      "execution_count": null,
      "outputs": [
        {
          "output_type": "stream",
          "name": "stdout",
          "text": [
            "8\n"
          ]
        }
      ]
    },
    {
      "cell_type": "markdown",
      "source": [
        "*   **Divide and Assign ('/=')**\n",
        "\n"
      ],
      "metadata": {
        "id": "S3J-pntd70aB"
      }
    },
    {
      "cell_type": "code",
      "source": [
        "a = 10\n",
        "a /= 2\n",
        "print(a)\n"
      ],
      "metadata": {
        "colab": {
          "base_uri": "https://localhost:8080/"
        },
        "id": "Mx8oL2KF8G2g",
        "outputId": "a072db81-ca83-488c-9b9a-24fd86986f5d"
      },
      "execution_count": null,
      "outputs": [
        {
          "output_type": "stream",
          "name": "stdout",
          "text": [
            "5.0\n"
          ]
        }
      ]
    },
    {
      "cell_type": "markdown",
      "source": [
        "*   **Modulus and Assign ('%=')**\n",
        "\n"
      ],
      "metadata": {
        "id": "BnjViehT8Uxp"
      }
    },
    {
      "cell_type": "code",
      "source": [
        "a = 10\n",
        "a %= 3\n",
        "print(a)\n"
      ],
      "metadata": {
        "colab": {
          "base_uri": "https://localhost:8080/"
        },
        "id": "ImmolkFF8gJD",
        "outputId": "ab41a96b-d822-4d56-9fcc-bb552d5014e5"
      },
      "execution_count": null,
      "outputs": [
        {
          "output_type": "stream",
          "name": "stdout",
          "text": [
            "1\n"
          ]
        }
      ]
    },
    {
      "cell_type": "markdown",
      "source": [
        "##**6.**   **Identity Operators**\n",
        "\n",
        "Identity operators compare the memory locations of two objects.\n",
        "\n",
        "\n",
        "\n",
        "*   'is': Returns 'True' if the operands refer to the same object.\n",
        "\n"
      ],
      "metadata": {
        "id": "bdbW-QUW8vhc"
      }
    },
    {
      "cell_type": "code",
      "source": [
        "a = [1, 2, 3]\n",
        "b = a\n",
        "result = a is b\n",
        "print(result)\n"
      ],
      "metadata": {
        "colab": {
          "base_uri": "https://localhost:8080/"
        },
        "id": "b8yPseUK9qz0",
        "outputId": "ac272bfd-3755-4811-f4ff-ac9507bf98f8"
      },
      "execution_count": null,
      "outputs": [
        {
          "output_type": "stream",
          "name": "stdout",
          "text": [
            "True\n"
          ]
        }
      ]
    },
    {
      "cell_type": "markdown",
      "source": [
        "*   'is not': Returns 'True' if the operands do not refer to the same object.\n",
        "\n"
      ],
      "metadata": {
        "id": "WkiWfzz59xcD"
      }
    },
    {
      "cell_type": "code",
      "source": [
        "a = [1, 2, 3]\n",
        "b = [1, 2, 3]\n",
        "result = a is not b\n",
        "print(result)\n"
      ],
      "metadata": {
        "colab": {
          "base_uri": "https://localhost:8080/"
        },
        "id": "kROIqgCr-DX1",
        "outputId": "4b33bb7e-1854-4f8a-f6f9-6e1edf57eb64"
      },
      "execution_count": null,
      "outputs": [
        {
          "output_type": "stream",
          "name": "stdout",
          "text": [
            "True\n"
          ]
        }
      ]
    },
    {
      "cell_type": "markdown",
      "source": [
        "##**7.   Membership Operators**\n",
        "\n",
        "Membership operators are used to test if a sequence contains a certain element.\n",
        "\n",
        "\n",
        "\n",
        "*   'in': Returns 'True' if the element is found in the sequence.\n",
        "\n",
        "\n"
      ],
      "metadata": {
        "id": "7qcL7WMz-MJe"
      }
    },
    {
      "cell_type": "code",
      "source": [
        "a = [1, 2, 3, 4]\n",
        "result = 3 in a\n",
        "print(result)\n"
      ],
      "metadata": {
        "colab": {
          "base_uri": "https://localhost:8080/"
        },
        "id": "mMPMcelh-oL1",
        "outputId": "abf17430-f987-4405-c333-55e1c8dfc28b"
      },
      "execution_count": null,
      "outputs": [
        {
          "output_type": "stream",
          "name": "stdout",
          "text": [
            "True\n"
          ]
        }
      ]
    },
    {
      "cell_type": "markdown",
      "source": [
        "*   'not in': Returns 'True' if the element is not found in the sequence.\n",
        "\n"
      ],
      "metadata": {
        "id": "tb2FwlkX-zY_"
      }
    },
    {
      "cell_type": "code",
      "source": [
        "a = [1, 2, 3, 4]\n",
        "result = 5 not in a\n",
        "print(result)\n"
      ],
      "metadata": {
        "colab": {
          "base_uri": "https://localhost:8080/"
        },
        "id": "3oyYSxS_-9zr",
        "outputId": "553fb7ba-cc4b-41c8-bf51-47199f711ac5"
      },
      "execution_count": null,
      "outputs": [
        {
          "output_type": "stream",
          "name": "stdout",
          "text": [
            "True\n"
          ]
        }
      ]
    },
    {
      "cell_type": "markdown",
      "source": [
        "##**8.   Special Operators**\n",
        "\n",
        "\n",
        "*   Ternary (Conditional) Operator\n",
        "    *   Syntax: 'value_if_true if condition else value_if_false'\n",
        "\n",
        "\n",
        "\n"
      ],
      "metadata": {
        "id": "gK9i5JeO_MLh"
      }
    },
    {
      "cell_type": "code",
      "source": [
        "age = 18\n",
        "eligibility = \"Eligible\" if age >= 18 else \"Not eligible\"\n",
        "print(eligibility)\n"
      ],
      "metadata": {
        "colab": {
          "base_uri": "https://localhost:8080/"
        },
        "id": "Xsk2ADiY_sh7",
        "outputId": "82b75848-8d66-440b-bffb-f12a2b0e6d4c"
      },
      "execution_count": null,
      "outputs": [
        {
          "output_type": "stream",
          "name": "stdout",
          "text": [
            "Eligible\n"
          ]
        }
      ]
    },
    {
      "cell_type": "markdown",
      "source": [
        "##Q5) Explain the concept of type casting in Python with examples.\n",
        "\n",
        "##Ans- **Type Casting in Python**\n",
        "Type casting in Python refers to the process of converting one data type into another. This is particularly useful when you need to perform operations on variables of different types, or when you need to ensure that a variable is of a specific type for a particular operation. Python provides several built-in functions to facilitate type casting.\n",
        "\n",
        "Type casting can be done in two ways:\n",
        "\n",
        "1.   Implicit Type Casting (Automatic)\n",
        "\n",
        "2.   Explicit Type Casting (Manual)\n",
        "\n",
        "\n",
        "\n",
        "##**1.   Implicit Type Casting**\n",
        "\n",
        "In implicit type casting, Python automatically converts one data type to another without any explicit instruction from the programmer. This usually happens when you perform operations between different types, and Python tries to avoid data loss by converting to a compatible data type.\n",
        "\n",
        "##**Example of Implicit Type Casting**\n",
        "\n",
        "\n"
      ],
      "metadata": {
        "id": "gxULqSAIgSTx"
      }
    },
    {
      "cell_type": "code",
      "source": [
        "a = 5\n",
        "b = 2.5\n",
        "\n",
        "result = a + b\n",
        "print(result)\n",
        "print(type(result))\n"
      ],
      "metadata": {
        "colab": {
          "base_uri": "https://localhost:8080/"
        },
        "id": "QqZCpjWGhCc5",
        "outputId": "854ea2a7-87b7-4739-a6dc-41a8874ef7be"
      },
      "execution_count": null,
      "outputs": [
        {
          "output_type": "stream",
          "name": "stdout",
          "text": [
            "7.5\n",
            "<class 'float'>\n"
          ]
        }
      ]
    },
    {
      "cell_type": "markdown",
      "source": [
        "\n",
        "\n",
        "##**2.   Explicit Type Casting**\n",
        "\n",
        "Explicit type casting is when you manually convert one data type to another by using Python's built-in functions. This is often necessary when Python cannot automatically perform the conversion, or when you want to ensure a specific type.\n",
        "\n",
        "\n",
        "**Common Functions for Explicit Type Casting**\n",
        "\n",
        "\n",
        "*   **'int()'**: Converts a value to an integer.\n",
        "\n",
        "*   **'float()':** Converts a value to a float.\n",
        "\n",
        "*   **'str()':** Converts a value to a string.\n",
        "\n",
        "*   **'list()':** Converts a value (such as a tuple or string) to a list.\n",
        "\n",
        "*   **'tuple()':** Converts a value (such as a list or string) to a tuple.\n",
        "\n",
        "*   **'set()':** Converts a value (such as a list or tuple) to a set.\n",
        "\n",
        "##**Examples of Explicit Type Casting**\n",
        "\n",
        "**Integer to Float:**"
      ],
      "metadata": {
        "id": "FPUWNb_7hW8f"
      }
    },
    {
      "cell_type": "code",
      "source": [
        "a = 10\n",
        "b = float(a)\n",
        "print(b)\n",
        "print(type(b))\n"
      ],
      "metadata": {
        "colab": {
          "base_uri": "https://localhost:8080/"
        },
        "id": "v0oX6pL3igan",
        "outputId": "247ed916-0905-49ff-ede2-f6bbb8e5f3fd"
      },
      "execution_count": null,
      "outputs": [
        {
          "output_type": "stream",
          "name": "stdout",
          "text": [
            "10.0\n",
            "<class 'float'>\n"
          ]
        }
      ]
    },
    {
      "cell_type": "markdown",
      "source": [
        "**Float to Integer:**"
      ],
      "metadata": {
        "id": "euqzaa5yimK_"
      }
    },
    {
      "cell_type": "code",
      "source": [
        "a = 7.8\n",
        "b = int(a)\n",
        "print(b)\n",
        "print(type(b))\n"
      ],
      "metadata": {
        "colab": {
          "base_uri": "https://localhost:8080/"
        },
        "id": "4Dk9ogHOiq33",
        "outputId": "c4f6677c-2b85-4980-dee7-7de3ff1144b5"
      },
      "execution_count": null,
      "outputs": [
        {
          "output_type": "stream",
          "name": "stdout",
          "text": [
            "7\n",
            "<class 'int'>\n"
          ]
        }
      ]
    },
    {
      "cell_type": "markdown",
      "source": [
        "**Integer to String:**"
      ],
      "metadata": {
        "id": "w-yDNSyrizlu"
      }
    },
    {
      "cell_type": "code",
      "source": [
        "a = 42\n",
        "b = str(a)\n",
        "print(b)\n",
        "print(type(b))\n"
      ],
      "metadata": {
        "colab": {
          "base_uri": "https://localhost:8080/"
        },
        "id": "xBi8-abwi13H",
        "outputId": "5756a25d-38ca-4ccb-ee96-fe16e1325c81"
      },
      "execution_count": null,
      "outputs": [
        {
          "output_type": "stream",
          "name": "stdout",
          "text": [
            "42\n",
            "<class 'str'>\n"
          ]
        }
      ]
    },
    {
      "cell_type": "markdown",
      "source": [
        "**String to Integer:**"
      ],
      "metadata": {
        "id": "ZdvOFNkZi9sO"
      }
    },
    {
      "cell_type": "code",
      "source": [
        "a = \"123\"\n",
        "b = int(a)\n",
        "print(b)\n",
        "print(type(b))\n"
      ],
      "metadata": {
        "colab": {
          "base_uri": "https://localhost:8080/"
        },
        "id": "TMfWQ7cii_om",
        "outputId": "bdbfcdcd-b3b7-4870-dd95-79334a52c43e"
      },
      "execution_count": null,
      "outputs": [
        {
          "output_type": "stream",
          "name": "stdout",
          "text": [
            "123\n",
            "<class 'int'>\n"
          ]
        }
      ]
    },
    {
      "cell_type": "markdown",
      "source": [
        "**List to Tuple:**"
      ],
      "metadata": {
        "id": "86HIAWEajJKf"
      }
    },
    {
      "cell_type": "code",
      "source": [
        "a = [1, 2, 3]\n",
        "b = tuple(a)\n",
        "print(b)\n",
        "print(type(b))\n"
      ],
      "metadata": {
        "colab": {
          "base_uri": "https://localhost:8080/"
        },
        "id": "6t99EIdTjNxX",
        "outputId": "17a5b2a2-6d24-48da-b061-53f3add8332b"
      },
      "execution_count": null,
      "outputs": [
        {
          "output_type": "stream",
          "name": "stdout",
          "text": [
            "(1, 2, 3)\n",
            "<class 'tuple'>\n"
          ]
        }
      ]
    },
    {
      "cell_type": "markdown",
      "source": [
        "**String to List:**"
      ],
      "metadata": {
        "id": "0ZXoBRoJjU_O"
      }
    },
    {
      "cell_type": "code",
      "source": [
        "a = \"hello\"\n",
        "b = list(a)\n",
        "print(b)\n",
        "print(type(b))\n"
      ],
      "metadata": {
        "colab": {
          "base_uri": "https://localhost:8080/"
        },
        "id": "w4ZmJwjnjX62",
        "outputId": "4d33db22-c76f-474d-f89d-4532831a4d5d"
      },
      "execution_count": null,
      "outputs": [
        {
          "output_type": "stream",
          "name": "stdout",
          "text": [
            "['h', 'e', 'l', 'l', 'o']\n",
            "<class 'list'>\n"
          ]
        }
      ]
    },
    {
      "cell_type": "markdown",
      "source": [
        "##Q6) How do conditional statements work in Python? Illustrate with examples.\n",
        "\n",
        "##Ans- **Conditional Statements in Python**\n",
        "\n",
        "Conditional statements in Python are used to execute specific blocks of code based on whether a condition is true or false. These statements allow your program to make decisions and perform different actions depending on the inputs or data it processes.\n",
        "\n",
        "\n",
        "Python provides three main types of conditional statements:\n",
        "\n",
        "\n",
        "**1.   'if' statement**\n",
        "\n",
        "**2.   'if-else' statement**\n",
        "\n",
        "**3.   'if-elif-else' statement**\n",
        "\n",
        "\n",
        "\n",
        "##**1.   'if' Statement**\n",
        "\n",
        "The **'if**' statement is the simplest form of a conditional statement. It evaluates a condition (an expression that returns **'True'** or **'False'**). If the condition is **'True'**, the block of code under the **'if'** statement is executed. If the condition is **'False'**, the code block is skipped.\n",
        "\n",
        "\n",
        "\n",
        "##**Example of 'if' Statement**\n",
        "\n",
        "\n",
        "\n",
        "\n",
        "\n",
        "\n",
        "\n"
      ],
      "metadata": {
        "id": "DXh_7enCjfbu"
      }
    },
    {
      "cell_type": "code",
      "source": [
        "age = 18\n",
        "\n",
        "if age >= 18:\n",
        "    print(\"You are eligible to vote.\")\n"
      ],
      "metadata": {
        "colab": {
          "base_uri": "https://localhost:8080/"
        },
        "id": "Yy--Vq2DlkXY",
        "outputId": "961d245a-8cb9-4459-ef24-d8d74ab83af5"
      },
      "execution_count": null,
      "outputs": [
        {
          "output_type": "stream",
          "name": "stdout",
          "text": [
            "You are eligible to vote.\n"
          ]
        }
      ]
    },
    {
      "cell_type": "markdown",
      "source": [
        "##**2. 'if-else' Statement**\n",
        "\n",
        "The **'if-else'** statement adds an alternative action when the condition is **'False'**. If the condition is **'True'**, the code block under **'if'** is executed. If the condition is **'False'**, the code block under **'else'** is executed.\n",
        "\n",
        "\n",
        "##**Example of 'if-else' Statement**\n"
      ],
      "metadata": {
        "id": "nm7XZDwBmVeD"
      }
    },
    {
      "cell_type": "code",
      "source": [
        "age = 16\n",
        "\n",
        "if age >= 18:\n",
        "    print(\"You are eligible to vote.\")\n",
        "else:\n",
        "    print(\"You are not eligible to vote.\")\n"
      ],
      "metadata": {
        "colab": {
          "base_uri": "https://localhost:8080/"
        },
        "id": "Ckshm08knVhD",
        "outputId": "7409cdcf-2247-458c-9aa4-8c1fa4f974c7"
      },
      "execution_count": null,
      "outputs": [
        {
          "output_type": "stream",
          "name": "stdout",
          "text": [
            "You are not eligible to vote.\n"
          ]
        }
      ]
    },
    {
      "cell_type": "markdown",
      "source": [
        "##**3.   'if-elif-else' Statement**\n",
        "\n",
        "The **'if-elif-else'** statement is used when there are multiple conditions to evaluate. The program checks each condition in sequence. If a condition is **'True'**, the corresponding code block is executed, and the rest of the conditions are ignored. If none of the conditions are **'True'**, the code block under **'else'** is executed.\n",
        "\n",
        "\n",
        "##**Example of 'if-elif-else' Statement**\n"
      ],
      "metadata": {
        "id": "hBQWpfHYoGmN"
      }
    },
    {
      "cell_type": "code",
      "source": [
        "marks = 85\n",
        "\n",
        "if marks >= 90:\n",
        "    print(\"Grade: A\")\n",
        "elif marks >= 80:\n",
        "    print(\"Grade: B\")\n",
        "elif marks >= 70:\n",
        "    print(\"Grade: C\")\n",
        "else:\n",
        "    print(\"Grade: D\")\n"
      ],
      "metadata": {
        "colab": {
          "base_uri": "https://localhost:8080/"
        },
        "id": "LTEzngx4o0KO",
        "outputId": "b8e01b96-7521-4789-9cc5-e00d783264c8"
      },
      "execution_count": null,
      "outputs": [
        {
          "output_type": "stream",
          "name": "stdout",
          "text": [
            "Grade: B\n"
          ]
        }
      ]
    },
    {
      "cell_type": "markdown",
      "source": [
        "##**4.   Nested 'if' Statements**\n",
        "\n",
        "Python allows you to place one **'if'** statement inside another **'if'** statement, creating a nested structure. This is useful when you need to check multiple conditions in a hierarchical manner.\n",
        "\n",
        "##**Example of Nested 'if' Statement**\n",
        "\n"
      ],
      "metadata": {
        "id": "hskN9BnqpWQ6"
      }
    },
    {
      "cell_type": "code",
      "source": [
        "number = 15\n",
        "\n",
        "if number > 0:\n",
        "    print(\"The number is positive.\")\n",
        "    if number % 2 == 0:\n",
        "        print(\"The number is even.\")\n",
        "    else:\n",
        "        print(\"The number is odd.\")\n",
        "else:\n",
        "    print(\"The number is not positive.\")\n"
      ],
      "metadata": {
        "colab": {
          "base_uri": "https://localhost:8080/"
        },
        "id": "NnK8_CExp2WV",
        "outputId": "05fe45d7-39c7-4cff-96c7-731a84daf0af"
      },
      "execution_count": null,
      "outputs": [
        {
          "output_type": "stream",
          "name": "stdout",
          "text": [
            "The number is positive.\n",
            "The number is odd.\n"
          ]
        }
      ]
    },
    {
      "cell_type": "markdown",
      "source": [
        "##**5.   Conditional Expressions (Ternary Operator)**\n",
        "\n",
        "Python also supports a concise way to write **'if-else'** statements using a ternary operator. This is particularly useful for simple conditions that can be expressed in a single line.\n",
        "\n",
        "\n",
        "##**Example of a Ternary Operator**"
      ],
      "metadata": {
        "id": "4i3yrMTlp8td"
      }
    },
    {
      "cell_type": "code",
      "source": [
        "age = 20\n",
        "status = \"Eligible\" if age >= 18 else \"Not Eligible\"\n",
        "print(status)\n"
      ],
      "metadata": {
        "colab": {
          "base_uri": "https://localhost:8080/"
        },
        "id": "w9DBc5C2qQ9w",
        "outputId": "24c66a56-4b2b-467f-83d4-81693baac625"
      },
      "execution_count": null,
      "outputs": [
        {
          "output_type": "stream",
          "name": "stdout",
          "text": [
            "Eligible\n"
          ]
        }
      ]
    },
    {
      "cell_type": "markdown",
      "source": [
        "##Q7)Describe the different types of loops in Python and their use cases with examples.\n",
        "\n",
        "##Ans- **Types of Loops in Python**\n",
        "\n",
        "Loops are fundamental control structures in Python that allow you to repeat a block of code multiple times. Python provides two main types of loops: **'for'** loops and **'while'** loops. Each serves different purposes and is used in different scenarios.\n",
        "\n",
        "\n",
        "\n",
        "##**1.   'for' Loop**\n",
        "\n",
        "The **'for'** loop is used to iterate over a sequence (such as a list, tuple, dictionary, string, or range) and execute a block of code for each element in the sequence. It is particularly useful when you know the number of iterations in advance.\n",
        "\n",
        "##**Example 1: Iterating Over a List**"
      ],
      "metadata": {
        "id": "FpqfkFfWsZ6J"
      }
    },
    {
      "cell_type": "code",
      "source": [
        "fruits = [\"apple\", \"banana\", \"cherry\"]\n",
        "\n",
        "for fruit in fruits:\n",
        "    print(fruit)\n"
      ],
      "metadata": {
        "colab": {
          "base_uri": "https://localhost:8080/"
        },
        "id": "kxNP7nTStObR",
        "outputId": "6326b5a7-fcde-4169-87ca-bff92d260da2"
      },
      "execution_count": null,
      "outputs": [
        {
          "output_type": "stream",
          "name": "stdout",
          "text": [
            "apple\n",
            "banana\n",
            "cherry\n"
          ]
        }
      ]
    },
    {
      "cell_type": "markdown",
      "source": [
        "##**Example 2: Using 'range()' with a 'for' Loop**\n",
        "\n",
        "\n"
      ],
      "metadata": {
        "id": "rZOOFS30tQTj"
      }
    },
    {
      "cell_type": "code",
      "source": [
        "for i in range(5):\n",
        "    print(i)\n"
      ],
      "metadata": {
        "colab": {
          "base_uri": "https://localhost:8080/"
        },
        "id": "FB3UBohBtkLz",
        "outputId": "1ef26890-20b7-4355-de54-3b89d663787f"
      },
      "execution_count": null,
      "outputs": [
        {
          "output_type": "stream",
          "name": "stdout",
          "text": [
            "0\n",
            "1\n",
            "2\n",
            "3\n",
            "4\n"
          ]
        }
      ]
    },
    {
      "cell_type": "markdown",
      "source": [
        "**Use Cases for 'for' Loops**\n",
        "\n",
        "\n",
        "\n",
        "*   Iterating over elements in a list, tuple, or dictionary.\n",
        "\n",
        "*   Performing an action a specific number of times.\n",
        "\n",
        "*   Iterating over a sequence of numbers.\n",
        "\n",
        "*   Traversing characters in a string.\n",
        "\n",
        "\n",
        "\n",
        "\n",
        "##**2.   while Loop**\n",
        "\n",
        "The **'while'** loop repeatedly executes a block of code as long as a specified condition is **'True'**. It is ideal for scenarios where you don't know in advance how many times you need to iterate, but you want to continue looping until a condition changes.\n",
        "\n",
        "##**Example 1: Basic 'while' Loop**\n",
        "\n",
        "\n",
        "\n",
        "\n",
        "\n"
      ],
      "metadata": {
        "id": "UAOo0HdotqPl"
      }
    },
    {
      "cell_type": "code",
      "source": [
        "count = 0\n",
        "\n",
        "while count < 5:\n",
        "    print(\"Count is:\", count)\n",
        "    count += 1\n"
      ],
      "metadata": {
        "colab": {
          "base_uri": "https://localhost:8080/"
        },
        "id": "soYkwA-1u8An",
        "outputId": "d0322289-81b3-435c-abce-9fea579b97cc"
      },
      "execution_count": null,
      "outputs": [
        {
          "output_type": "stream",
          "name": "stdout",
          "text": [
            "Count is: 0\n",
            "Count is: 1\n",
            "Count is: 2\n",
            "Count is: 3\n",
            "Count is: 4\n"
          ]
        }
      ]
    },
    {
      "cell_type": "markdown",
      "source": [
        "##**Example 2: Infinite Loop (With Break Condition)**"
      ],
      "metadata": {
        "id": "kaQC7-wEvGFK"
      }
    },
    {
      "cell_type": "code",
      "source": [
        "i = 1\n",
        "\n",
        "while True:\n",
        "    print(\"i =\", i)\n",
        "    i += 1\n",
        "    if i > 5:\n",
        "        break\n"
      ],
      "metadata": {
        "colab": {
          "base_uri": "https://localhost:8080/"
        },
        "id": "Jvuc6I_UvJEq",
        "outputId": "92786a20-5a4d-4d1b-f30d-dd30229bb4ff"
      },
      "execution_count": null,
      "outputs": [
        {
          "output_type": "stream",
          "name": "stdout",
          "text": [
            "i = 1\n",
            "i = 2\n",
            "i = 3\n",
            "i = 4\n",
            "i = 5\n"
          ]
        }
      ]
    },
    {
      "cell_type": "markdown",
      "source": [
        "**Use Cases for while Loops**\n",
        "\n",
        "\n",
        "\n",
        "*   Repeating an action until a certain condition is met.\n",
        "\n",
        "*   Implementing loops where the number of iterations is not known beforehand.\n",
        "\n",
        "*   Creating infinite loops with controlled exit conditions.\n",
        "\n",
        "*   Waiting for an external condition to change before proceeding.\n",
        "\n",
        "\n",
        "\n",
        "##**3.   Nested Loops**\n",
        "\n",
        "Both **'for'** and **'while'** loops can be nested, meaning you can place one loop inside another. This is useful when dealing with multi-dimensional data structures or performing complex iterations.\n",
        "\n",
        "\n",
        "##**Example of Nested 'for' Loops**\n",
        "\n",
        "\n"
      ],
      "metadata": {
        "id": "CXnRM5dJvMKa"
      }
    },
    {
      "cell_type": "code",
      "source": [
        "matrix = [\n",
        "    [1, 2, 3],\n",
        "    [4, 5, 6],\n",
        "    [7, 8, 9]\n",
        "]\n",
        "\n",
        "for row in matrix:\n",
        "    for num in row:\n",
        "        print(num, end=\" \")\n",
        "    print()\n"
      ],
      "metadata": {
        "colab": {
          "base_uri": "https://localhost:8080/"
        },
        "id": "JLXaygmMwA0A",
        "outputId": "c97f2936-da9a-4b20-d061-b76cce1c8ea9"
      },
      "execution_count": null,
      "outputs": [
        {
          "output_type": "stream",
          "name": "stdout",
          "text": [
            "1 2 3 \n",
            "4 5 6 \n",
            "7 8 9 \n"
          ]
        }
      ]
    },
    {
      "cell_type": "markdown",
      "source": [
        "##**Example of Nested while and for Loops**"
      ],
      "metadata": {
        "id": "1VI0bekfwQbA"
      }
    },
    {
      "cell_type": "code",
      "source": [
        "i = 1\n",
        "\n",
        "while i <= 3:\n",
        "    for j in range(1, 4):\n",
        "        print(f\"i = {i}, j = {j}\")\n",
        "    i += 1\n"
      ],
      "metadata": {
        "colab": {
          "base_uri": "https://localhost:8080/"
        },
        "id": "f5ioLzsvwTJ4",
        "outputId": "0db04b3e-7962-40bd-f339-180906a964d2"
      },
      "execution_count": null,
      "outputs": [
        {
          "output_type": "stream",
          "name": "stdout",
          "text": [
            "i = 1, j = 1\n",
            "i = 1, j = 2\n",
            "i = 1, j = 3\n",
            "i = 2, j = 1\n",
            "i = 2, j = 2\n",
            "i = 2, j = 3\n",
            "i = 3, j = 1\n",
            "i = 3, j = 2\n",
            "i = 3, j = 3\n"
          ]
        }
      ]
    },
    {
      "cell_type": "markdown",
      "source": [
        "\n",
        "\n",
        "##**4.   Control Statements in Loops**\n",
        "\n",
        "Python provides control statements like **'break'**, **'continue'**, and **'pass'** to control the flow of loops:\n",
        "\n",
        "\n",
        "\n",
        "*   **'break':** Exits the loop prematurely.\n",
        "\n",
        "*   **'continue':** Skips the rest of the loop and proceeds with the next iteration.\n",
        "\n",
        "*  **'pass':** Does nothing; it's a placeholder.\n",
        "\n",
        "##**Example Using 'continue'**\n",
        "\n",
        "\n"
      ],
      "metadata": {
        "id": "C4DZKfORwa5Z"
      }
    },
    {
      "cell_type": "code",
      "source": [
        "for i in range(5):\n",
        "    if i == 2:\n",
        "        continue\n",
        "    print(i)\n"
      ],
      "metadata": {
        "colab": {
          "base_uri": "https://localhost:8080/"
        },
        "id": "L_jP9puTxWeB",
        "outputId": "b4e7fb95-753e-4386-d049-d19177c1bbab"
      },
      "execution_count": null,
      "outputs": [
        {
          "output_type": "stream",
          "name": "stdout",
          "text": [
            "0\n",
            "1\n",
            "3\n",
            "4\n"
          ]
        }
      ]
    }
  ]
}