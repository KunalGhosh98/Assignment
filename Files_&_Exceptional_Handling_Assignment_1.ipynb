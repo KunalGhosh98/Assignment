{
  "nbformat": 4,
  "nbformat_minor": 0,
  "metadata": {
    "colab": {
      "provenance": []
    },
    "kernelspec": {
      "name": "python3",
      "display_name": "Python 3"
    },
    "language_info": {
      "name": "python"
    }
  },
  "cells": [
    {
      "cell_type": "markdown",
      "source": [
        "##Q4)Write a Python program using multithreading where one thread adds numbers to a list, and another thread removes numbers from the list. Implement a mechanism to avoid race conditions using threading.Lock.\n",
        "\n",
        "\n",
        "\n",
        "\n",
        "##Ans-"
      ],
      "metadata": {
        "id": "uFgylwtLE8QY"
      }
    },
    {
      "cell_type": "code",
      "execution_count": null,
      "metadata": {
        "colab": {
          "base_uri": "https://localhost:8080/"
        },
        "id": "LYkXgdvbE4zM",
        "outputId": "8d44d944-9e82-4948-fad4-a2dba8967cbf"
      },
      "outputs": [
        {
          "output_type": "stream",
          "name": "stdout",
          "text": [
            "Final List: []\n"
          ]
        }
      ],
      "source": [
        "import threading\n",
        "\n",
        "# A shared list between threads\n",
        "shared_list = []\n",
        "lock = threading.Lock()\n",
        "\n",
        "# Function to add numbers to the list\n",
        "def add_to_list(numbers):\n",
        "    for num in numbers:\n",
        "        lock.acquire()  # Acquire the lock to prevent race conditions\n",
        "        shared_list.append(num)\n",
        "        lock.release()  # Release the lock\n",
        "\n",
        "# Function to remove numbers from the list\n",
        "def remove_from_list(count):\n",
        "    while count > 0:\n",
        "        lock.acquire()  # Acquire the lock to prevent race conditions\n",
        "        if shared_list:\n",
        "            shared_list.pop(0)\n",
        "        lock.release()  # Release the lock\n",
        "        count -= 1\n",
        "\n",
        "# Thread 1 adds numbers\n",
        "thread1 = threading.Thread(target=add_to_list, args=([1, 2, 3, 4, 5],))\n",
        "# Thread 2 removes numbers\n",
        "thread2 = threading.Thread(target=remove_from_list, args=(5,))\n",
        "\n",
        "# Start threads\n",
        "thread1.start()\n",
        "thread2.start()\n",
        "\n",
        "# Wait for threads to finish\n",
        "thread1.join()\n",
        "thread2.join()\n",
        "\n",
        "print(\"Final List:\", shared_list)\n"
      ]
    },
    {
      "cell_type": "markdown",
      "source": [
        "##Q7)Create a program that uses a thread pool to calculate the factorial of numbers from 1 to 10 concurrently. Use concurrent.futures.ThreadPoolExecutor to manage the threads.\n",
        "\n",
        "\n",
        "\n",
        "##Ans-"
      ],
      "metadata": {
        "id": "DnAB4MprF26a"
      }
    },
    {
      "cell_type": "code",
      "source": [
        "import multiprocessing\n",
        "import time\n",
        "\n",
        "# Function to calculate square of a number\n",
        "def square(n):\n",
        "    return n * n\n",
        "\n",
        "# Function to measure time for pool execution\n",
        "def compute_square(pool_size):\n",
        "    with multiprocessing.Pool(pool_size) as pool:\n",
        "        numbers = list(range(1, 11))\n",
        "        start_time = time.time()\n",
        "        results = pool.map(square, numbers)\n",
        "        end_time = time.time()\n",
        "        print(f\"Pool size {pool_size}, Time taken: {end_time - start_time:.4f} seconds\")\n",
        "        print(f\"Results: {results}\")\n",
        "\n",
        "# Test with different pool sizes\n",
        "for size in [2, 4, 8]:\n",
        "    compute_square(size)\n"
      ],
      "metadata": {
        "colab": {
          "base_uri": "https://localhost:8080/"
        },
        "id": "hDQtI6EWF_wq",
        "outputId": "798c6b17-01c6-4c8d-a8e6-e1075ddd10d7"
      },
      "execution_count": null,
      "outputs": [
        {
          "output_type": "stream",
          "name": "stdout",
          "text": [
            "Pool size 2, Time taken: 0.0122 seconds\n",
            "Results: [1, 4, 9, 16, 25, 36, 49, 64, 81, 100]\n",
            "Pool size 4, Time taken: 0.0176 seconds\n",
            "Results: [1, 4, 9, 16, 25, 36, 49, 64, 81, 100]\n",
            "Pool size 8, Time taken: 0.0196 seconds\n",
            "Results: [1, 4, 9, 16, 25, 36, 49, 64, 81, 100]\n"
          ]
        }
      ]
    },
    {
      "cell_type": "markdown",
      "source": [
        "##Q8)Create a Python program that uses multiprocessing.Pool to compute the square of numbers from 1 to 10 in parallel. Measure the time taken to perform this computation using a pool of different sizes (e.g., 2, 4, 8 processes).\n",
        "\n",
        "\n",
        "\n",
        "\n",
        "\n",
        "##Ans-"
      ],
      "metadata": {
        "id": "UVXu-IRVGD5Y"
      }
    },
    {
      "cell_type": "code",
      "source": [
        "import multiprocessing\n",
        "import time\n",
        "\n",
        "# Function to calculate square of a number\n",
        "def square(n):\n",
        "    return n * n\n",
        "\n",
        "# Function to measure time for pool execution\n",
        "def compute_square(pool_size):\n",
        "    with multiprocessing.Pool(pool_size) as pool:\n",
        "        numbers = list(range(1, 11))\n",
        "        start_time = time.time()\n",
        "        results = pool.map(square, numbers)\n",
        "        end_time = time.time()\n",
        "        print(f\"Pool size {pool_size}, Time taken: {end_time - start_time:.4f} seconds\")\n",
        "        print(f\"Results: {results}\")\n",
        "\n",
        "# Test with different pool sizes\n",
        "for size in [2, 4, 8]:\n",
        "    compute_square(size)\n"
      ],
      "metadata": {
        "colab": {
          "base_uri": "https://localhost:8080/"
        },
        "id": "Nv5MZLQxGMrR",
        "outputId": "454d948d-7410-453d-c29d-48b48f1c661b"
      },
      "execution_count": null,
      "outputs": [
        {
          "output_type": "stream",
          "name": "stdout",
          "text": [
            "Pool size 2, Time taken: 0.0045 seconds\n",
            "Results: [1, 4, 9, 16, 25, 36, 49, 64, 81, 100]\n",
            "Pool size 4, Time taken: 0.0042 seconds\n",
            "Results: [1, 4, 9, 16, 25, 36, 49, 64, 81, 100]\n",
            "Pool size 8, Time taken: 0.0072 seconds\n",
            "Results: [1, 4, 9, 16, 25, 36, 49, 64, 81, 100]\n"
          ]
        }
      ]
    }
  ]
}